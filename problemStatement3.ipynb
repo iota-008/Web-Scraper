{
 "cells": [
  {
   "cell_type": "code",
   "execution_count": 16,
   "metadata": {},
   "outputs": [],
   "source": [
    "from nltk.corpus import wordnet,stopwords\n",
    "from nltk.tokenize import word_tokenize\n",
    "from nltk import pos_tag\n",
    "from nltk.classify.scikitlearn import SklearnClassifier\n",
    "from sklearn.feature_extraction.text import CountVectorizer\n",
    "from nltk.stem import WordNetLemmatizer\n",
    "import string\n",
    "import nltk\n",
    "from sklearn.model_selection import GridSearchCV,cross_val_score\n",
    "import pandas as pd\n",
    "import numpy as np\n",
    "import matplotlib.pyplot as plt\n",
    "import seaborn as sns\n",
    "sns.set()"
   ]
  },
  {
   "cell_type": "code",
   "execution_count": 17,
   "metadata": {},
   "outputs": [],
   "source": [
    "training_data = pd.read_csv('train.csv',encoding='latin-1')\n",
    "# test_text = pd.read_csv('test.csv')"
   ]
  },
  {
   "cell_type": "code",
   "execution_count": 18,
   "metadata": {},
   "outputs": [
    {
     "data": {
      "text/html": [
       "<div>\n",
       "<style scoped>\n",
       "    .dataframe tbody tr th:only-of-type {\n",
       "        vertical-align: middle;\n",
       "    }\n",
       "\n",
       "    .dataframe tbody tr th {\n",
       "        vertical-align: top;\n",
       "    }\n",
       "\n",
       "    .dataframe thead th {\n",
       "        text-align: right;\n",
       "    }\n",
       "</style>\n",
       "<table border=\"1\" class=\"dataframe\">\n",
       "  <thead>\n",
       "    <tr style=\"text-align: right;\">\n",
       "      <th></th>\n",
       "      <th>ItemID</th>\n",
       "      <th>Sentiment</th>\n",
       "      <th>SentimentText</th>\n",
       "    </tr>\n",
       "  </thead>\n",
       "  <tbody>\n",
       "    <tr>\n",
       "      <th>0</th>\n",
       "      <td>1</td>\n",
       "      <td>0</td>\n",
       "      <td>is so sad for my APL frie...</td>\n",
       "    </tr>\n",
       "    <tr>\n",
       "      <th>1</th>\n",
       "      <td>2</td>\n",
       "      <td>0</td>\n",
       "      <td>I missed the New Moon trail...</td>\n",
       "    </tr>\n",
       "    <tr>\n",
       "      <th>2</th>\n",
       "      <td>3</td>\n",
       "      <td>1</td>\n",
       "      <td>omg its already 7:30 :O</td>\n",
       "    </tr>\n",
       "    <tr>\n",
       "      <th>3</th>\n",
       "      <td>4</td>\n",
       "      <td>0</td>\n",
       "      <td>.. Omgaga. Im sooo  im gunna CRy. I'...</td>\n",
       "    </tr>\n",
       "    <tr>\n",
       "      <th>4</th>\n",
       "      <td>5</td>\n",
       "      <td>0</td>\n",
       "      <td>i think mi bf is cheating on me!!!   ...</td>\n",
       "    </tr>\n",
       "    <tr>\n",
       "      <th>...</th>\n",
       "      <td>...</td>\n",
       "      <td>...</td>\n",
       "      <td>...</td>\n",
       "    </tr>\n",
       "    <tr>\n",
       "      <th>99984</th>\n",
       "      <td>99996</td>\n",
       "      <td>0</td>\n",
       "      <td>@Cupcake  seems like a repeating problem   hop...</td>\n",
       "    </tr>\n",
       "    <tr>\n",
       "      <th>99985</th>\n",
       "      <td>99997</td>\n",
       "      <td>1</td>\n",
       "      <td>@cupcake__ arrrr we both replied to each other...</td>\n",
       "    </tr>\n",
       "    <tr>\n",
       "      <th>99986</th>\n",
       "      <td>99998</td>\n",
       "      <td>0</td>\n",
       "      <td>@CuPcAkE_2120 ya i thought so</td>\n",
       "    </tr>\n",
       "    <tr>\n",
       "      <th>99987</th>\n",
       "      <td>99999</td>\n",
       "      <td>1</td>\n",
       "      <td>@Cupcake_Dollie Yes. Yes. I'm glad you had mor...</td>\n",
       "    </tr>\n",
       "    <tr>\n",
       "      <th>99988</th>\n",
       "      <td>100000</td>\n",
       "      <td>1</td>\n",
       "      <td>@cupcake_kayla haha yes you do</td>\n",
       "    </tr>\n",
       "  </tbody>\n",
       "</table>\n",
       "<p>99989 rows × 3 columns</p>\n",
       "</div>"
      ],
      "text/plain": [
       "       ItemID  Sentiment                                      SentimentText\n",
       "0           1          0                       is so sad for my APL frie...\n",
       "1           2          0                     I missed the New Moon trail...\n",
       "2           3          1                            omg its already 7:30 :O\n",
       "3           4          0            .. Omgaga. Im sooo  im gunna CRy. I'...\n",
       "4           5          0           i think mi bf is cheating on me!!!   ...\n",
       "...       ...        ...                                                ...\n",
       "99984   99996          0  @Cupcake  seems like a repeating problem   hop...\n",
       "99985   99997          1  @cupcake__ arrrr we both replied to each other...\n",
       "99986   99998          0                     @CuPcAkE_2120 ya i thought so \n",
       "99987   99999          1  @Cupcake_Dollie Yes. Yes. I'm glad you had mor...\n",
       "99988  100000          1                    @cupcake_kayla haha yes you do \n",
       "\n",
       "[99989 rows x 3 columns]"
      ]
     },
     "execution_count": 18,
     "metadata": {},
     "output_type": "execute_result"
    }
   ],
   "source": [
    "training_data"
   ]
  },
  {
   "cell_type": "code",
   "execution_count": 19,
   "metadata": {},
   "outputs": [],
   "source": [
    "import re"
   ]
  },
  {
   "cell_type": "code",
   "execution_count": 21,
   "metadata": {},
   "outputs": [],
   "source": [
    "ans = []\n",
    "def camelCases(string):\n",
    "    splitted = re.sub('([A-Z][a-z]+)', r' \\1', re.sub('([A-Z]+)', r' \\1', string)).split()\n",
    "#     print(splitted)\n",
    "    string = ' '.join([str(elem) for elem in splitted])\n",
    "    listToStr = string.translate ({ord(c): \" \" for c in \"!@#$%^&*()[]{};:,./<>?\\|`~-=_+0123456789\"})\n",
    "    ans.append(str(listToStr).lower())"
   ]
  },
  {
   "cell_type": "code",
   "execution_count": 22,
   "metadata": {},
   "outputs": [],
   "source": [
    "def clean(x):\n",
    "    x = x.lower()\n",
    "    x = re.sub(r'(https?:\\/\\/)(\\s)*(www\\.)?(\\s)*((\\w|\\s)+\\.)*([\\w\\-\\s]+\\/)*([\\w\\-]+)((\\?)?[\\w\\s]*=\\s*[\\w\\%&]*)*', '', x, flags=re.MULTILINE)\n",
    "#     print(x)\n",
    "    x = re.sub(r'[^a-zA-Z]', ' ', x, flags=re.MULTILINE)    \n",
    "#     print(x)\n",
    "    return x"
   ]
  },
  {
   "cell_type": "code",
   "execution_count": 23,
   "metadata": {},
   "outputs": [],
   "source": [
    "training_data['SentimentText'] = training_data['SentimentText'].str.encode(\"ascii\",\"ignore\")\n",
    "training_data['SentimentText'] = training_data['SentimentText'].apply(lambda x: x.decode(\"utf-8\"))"
   ]
  },
  {
   "cell_type": "code",
   "execution_count": 24,
   "metadata": {},
   "outputs": [],
   "source": [
    "training_data['SentimentText'] = training_data['SentimentText'].apply(lambda x: clean(x))"
   ]
  },
  {
   "cell_type": "code",
   "execution_count": 26,
   "metadata": {},
   "outputs": [],
   "source": [
    "for i in range(training_data.shape[0]):\n",
    "    camelCases(training_data['SentimentText'].iloc[i])"
   ]
  },
  {
   "cell_type": "code",
   "execution_count": 27,
   "metadata": {},
   "outputs": [],
   "source": [
    "training_data['SentimentText'] = training_data['SentimentText'].apply(lambda x: clean(x))"
   ]
  },
  {
   "cell_type": "code",
   "execution_count": 31,
   "metadata": {},
   "outputs": [],
   "source": [
    "from nltk.corpus import stopwords\n",
    "list_of_stopwords = list(stopwords.words('english')) + list(string.punctuation)\n",
    "lemmatizer = WordNetLemmatizer()"
   ]
  },
  {
   "cell_type": "code",
   "execution_count": 32,
   "metadata": {},
   "outputs": [
    {
     "data": {
      "text/plain": [
       "99989"
      ]
     },
     "execution_count": 32,
     "metadata": {},
     "output_type": "execute_result"
    }
   ],
   "source": [
    "clean_tweet = []\n",
    "for i in range(training_data.shape[0]):\n",
    "    text_message = training_data['SentimentText'].values[i]\n",
    "    tokenized_words = word_tokenize(text_message)\n",
    "    clean_text = ''\n",
    "    for word in tokenized_words:\n",
    "        if not word in list_of_stopwords and word not in list(\"abcdefghijklmnopqrstuvwxyz\"):\n",
    "            clean_text += lemmatizer.lemmatize(word) + ' '\n",
    "            \n",
    "    clean_tweet.append(clean_text)\n",
    "    \n",
    "len(clean_tweet)"
   ]
  },
  {
   "cell_type": "code",
   "execution_count": 33,
   "metadata": {},
   "outputs": [],
   "source": [
    "training_data['SentimentText'] = clean_tweet"
   ]
  },
  {
   "cell_type": "code",
   "execution_count": 34,
   "metadata": {},
   "outputs": [
    {
     "data": {
      "text/plain": [
       "0                                          sad apl friend \n",
       "1                                 missed new moon trailer \n",
       "2                                             omg already \n",
       "3        omgaga im sooo im gunna cry dentist since supo...\n",
       "4                                    think mi bf cheating \n",
       "                               ...                        \n",
       "99984    cupcake seems like repeating problem hope able...\n",
       "99985    cupcake arrrr replied different tweet time see...\n",
       "99986                                  cupcake ya thought \n",
       "99987                     cupcake dollie yes yes glad fun \n",
       "99988                              cupcake kayla haha yes \n",
       "Name: SentimentText, Length: 99989, dtype: object"
      ]
     },
     "execution_count": 34,
     "metadata": {},
     "output_type": "execute_result"
    }
   ],
   "source": [
    "training_data.head()"
   ]
  },
  {
   "cell_type": "code",
   "execution_count": 43,
   "metadata": {},
   "outputs": [],
   "source": [
    "cv = CountVectorizer()\n",
    "sparse_matrix_tweet = cv.fit_transform(training_data['SentimentText'])"
   ]
  },
  {
   "cell_type": "code",
   "execution_count": 44,
   "metadata": {},
   "outputs": [
    {
     "data": {
      "text/plain": [
       "(99989, 90556)"
      ]
     },
     "execution_count": 44,
     "metadata": {},
     "output_type": "execute_result"
    }
   ],
   "source": [
    "sparse_matrix_tweet.shape"
   ]
  },
  {
   "cell_type": "code",
   "execution_count": 45,
   "metadata": {},
   "outputs": [
    {
     "data": {
      "text/plain": [
       "((74991, 90556), (24998, 90556), (74991,), (24998,))"
      ]
     },
     "execution_count": 45,
     "metadata": {},
     "output_type": "execute_result"
    }
   ],
   "source": [
    "from sklearn.model_selection import train_test_split\n",
    "X_train, X_test, Y_train, Y_test = train_test_split(sparse_matrix_tweet, training_data['Sentiment'])\n",
    "X_train.shape, X_test.shape, Y_train.shape, Y_test.shape"
   ]
  },
  {
   "cell_type": "code",
   "execution_count": 46,
   "metadata": {},
   "outputs": [
    {
     "data": {
      "text/plain": [
       "0.740099207936635"
      ]
     },
     "execution_count": 46,
     "metadata": {},
     "output_type": "execute_result"
    }
   ],
   "source": [
    "from sklearn.naive_bayes import MultinomialNB\n",
    "nv = MultinomialNB()\n",
    "nv.fit(X_train, Y_train)\n",
    "\n",
    "from sklearn.metrics import accuracy_score\n",
    "y_pred = nv.predict(X_test)\n",
    "accuracy_score(Y_test, y_pred)"
   ]
  },
  {
   "cell_type": "code",
   "execution_count": 47,
   "metadata": {},
   "outputs": [
    {
     "name": "stdout",
     "output_type": "stream",
     "text": [
      "Accuracy of logistic regression classifier on test set: 0.7476198095847668\n"
     ]
    },
    {
     "name": "stderr",
     "output_type": "stream",
     "text": [
      "C:\\Users\\iota\\anaconda3\\lib\\site-packages\\sklearn\\linear_model\\_logistic.py:940: ConvergenceWarning: lbfgs failed to converge (status=1):\n",
      "STOP: TOTAL NO. of ITERATIONS REACHED LIMIT.\n",
      "\n",
      "Increase the number of iterations (max_iter) or scale the data as shown in:\n",
      "    https://scikit-learn.org/stable/modules/preprocessing.html\n",
      "Please also refer to the documentation for alternative solver options:\n",
      "    https://scikit-learn.org/stable/modules/linear_model.html#logistic-regression\n",
      "  extra_warning_msg=_LOGISTIC_SOLVER_CONVERGENCE_MSG)\n"
     ]
    }
   ],
   "source": [
    "from sklearn.linear_model import LogisticRegression\n",
    "from sklearn import metrics\n",
    "logreg = LogisticRegression()\n",
    "logreg.fit(X_train, Y_train)\n",
    "y_pred = logreg.predict(X_test)\n",
    "print('Accuracy of logistic regression classifier on test set: {}'.format(accuracy_score(Y_test, y_pred)))"
   ]
  },
  {
   "cell_type": "code",
   "execution_count": null,
   "metadata": {},
   "outputs": [],
   "source": []
  },
  {
   "cell_type": "code",
   "execution_count": 84,
   "metadata": {},
   "outputs": [],
   "source": [
    "# from sklearn.naive_bayes import MultinomialNB\n",
    "# model1 = MultinomialNB()\n",
    "# cross_val_score(model1,X_train,Y_train).mean()"
   ]
  },
  {
   "cell_type": "code",
   "execution_count": 85,
   "metadata": {},
   "outputs": [],
   "source": [
    "# from sklearn.linear_model import LogisticRegression\n",
    "# model2 = LogisticRegression(max_iter=2000,multi_class='ovr')\n",
    "# cross_val_score(model2,X_train,Y_train).mean()"
   ]
  },
  {
   "cell_type": "code",
   "execution_count": 86,
   "metadata": {},
   "outputs": [],
   "source": [
    "# model2.fit(X_train,Y_train)"
   ]
  },
  {
   "cell_type": "code",
   "execution_count": 73,
   "metadata": {},
   "outputs": [],
   "source": [
    "# model2.predict(X_test)"
   ]
  },
  {
   "cell_type": "code",
   "execution_count": 74,
   "metadata": {},
   "outputs": [],
   "source": [
    "# news = np.array([\"i am bad\",\"he is fine now\",\"all is well\"])\n",
    "# news = cv.transform(news)\n",
    "# model2.predict(news)\n",
    "# # news"
   ]
  },
  {
   "cell_type": "markdown",
   "metadata": {},
   "source": [
    "first channel : india today"
   ]
  },
  {
   "cell_type": "code",
   "execution_count": 75,
   "metadata": {},
   "outputs": [
    {
     "name": "stdout",
     "output_type": "stream",
     "text": [
      "Found the URL: /sports/ipl-2020/story/ipl-2020-pragyan-ojha-predicts-top-4-teams-qualify-for-playoffs-mi-dc-rcb-kxip-1736836-2020-10-31\n",
      "\n",
      "Found the URL: /business/story/income-tax-return-filing-basic-exemption-limit-new-and-old-regime-1736821-2020-10-31\n",
      "\n",
      "Found the URL: /coronavirus-outbreak/story/700-km-long-traffic-jam-people-paris-flee-france-ahead-coronavirus-lockdown-1736837-2020-10-31\n",
      "\n",
      "Found the URL: /technology/news/story/pubg-mobile-app-removed-india-servers-now-shut-down-the-full-story-explained-in-5-points-1736832-2020-10-31\n",
      "\n",
      "Found the URL: /elections/bihar-assembly-polls-2020/story/ec-branch-bjp-surprised-rjd-tejashwi-yadav-becomes-bihar-cm-shiv-sena-sanjay-raut-1736817-2020-10-31\n",
      "\n",
      "Found the URL: /impact-feature/story/top-5-cloud-computing-courses-in-india-1736339-2020-10-29\n",
      "\n",
      "Found the URL: /impact-feature/story/find-the-pc-that-s-just-right-for-you-1736485-2020-10-30\n",
      "\n",
      "Found the URL: /impact-feature/story/winning-at-poker-is-like-first-love-you-just-can-t-stop-smiling-1736340-2020-10-29\n",
      "\n",
      "Found the URL: /india/story/indian-airline-appoints-female-ceo-for-first-time-air-india-alliance-air-harpreet-singh-1736758-2020-10-31\n",
      "\n",
      "Found the URL: /sports/cricket/story/pakistan-vs-zimbabwe-1st-odi-imam-sohail-comical-runout-batsmen-on-same-end-mix-up-1736802-2020-10-31\n",
      "\n",
      "Found the URL: /cities/lucknow/story/uttar-pradesh-men-summon-alladin-sell-magical-golden-lamp-meerut-doctor-lakh-1736801-2020-10-31\n",
      "\n",
      "Found the URL: /india/story/pm-modi-rashtriya-ekta-diwas-speech-pulwama-attack-unity-against-terrorism-sardar-vallabhbhai-patel-tribute-1736774-2020-10-31\n",
      "\n",
      "Found the URL: /elections/story/kamal-nath-reaction-after-ec-revokes-star-campaigner-status-1736790-2020-10-31\n",
      "\n",
      "Found the URL: /movies/photo/kajal-aggarwal-and-gautam-kitchlu-get-married-in-a-dreamy-wedding-ceremony-first-pics-1736753-2020-10-31\n",
      "\n",
      "Found the URL: /coronavirus-outbreak/story/coronavirus-vaccine-news-moderna-preparing-to-launch-potential-vaccine-johnson-johnson-conduct-tests-youth-teens-1736752-2020-10-31\n",
      "\n",
      "Found the URL: /trending-news/story/sea-water-floods-neighbourhood-as-earthquake-triggers-mini-tsunami-in-turkey-scary-video-goes-viral-1736754-2020-10-31\n",
      "\n",
      "Found the URL: /lifestyle/what-s-hot/story/your-weekend-planner-oct-30-kajal-ki-shaadi-to-some-piping-hot-jalebi-1736582-2020-10-30\n",
      "\n",
      "Found the URL: /elections/bihar-assembly-polls-2020/story/bihar-assembly-elections-all-you-need-to-know-faqs-voting-phases-results-cm-candidate-voter-list-covid-guidelines-1732808-2020-10-19\n",
      "\n",
      "So far, 50 IPL 2020 fixtures have been done and dusted and not a single team has officially qualified for the playoffs. In this ‘weird’ season, a little different from most IPL seasons, former India cricketer Pragyan Ojha is relying on his emotions to make predictions on which teams make it to the playoffs, starting November 4.According to the veteran spinner, these 4 teams led by four ‘Indian captains’ should be reaching the playoffs: MI, DC, RCB, and KXIP.“As I’ve been saying, this has been a weird season as far as the IPL is concerned and it’s very different this year. So I’m not going with my cricketing brain [to pick the playoffs qualifying teams]. I’m going with my emotion and I want all my Indian captains to be doing well.So it will be MI [Mumbai Indians], obviously you know, now Pollard is leading[ in Rohit’s absence] but Rohit is the captain. Next is DC [Delhi Capitals] with Shreyas Iyer as captain, then RCB with Virat Kohli as captain, and then Kings XI Punjab led by KL Rahul,” a smiling Pragyan Ojha said on Sports Today.Shreyas Iyer’s Delhi Capitals, at one point, were sitting at the top of the IPL 2020 points table, but are now at the 3rd position after having lost 3 games in a row. As Delhi lock horns with Mumbai Indians in Dubai, on Saturday, Ojha believes it would all depend on Iyer’s leadership in bringing back the winning momentum.“It will definitely be difficult for Delhi Capitals [to win against Mumbai Indians] because it’s all about the momentum. And when we are talking about momentum, DC have lost few games [3 games in a row] and these games were very crucial for them. And now they’re facing Mumbai Indians which will be a very hard team to beat as I have said that DC and MI are the two best teams in IPL 2020. It will all depend on how Shreyas Iyers leads the team as captain. I know he’ll do his part as a batsman but his leadership will be significant for DC to win against such a strong opponent,” Pragyan added.\n",
      "\n",
      "The finance ministry recently extended the due date for filing Income Tax returns (ITR) for the year 2019-20 till December 31, 2020. As per Income Tax rules, it is mandatory for individuals with an income to file ITR.Individuals are required to file income tax returns to inform the government about total income earned during a particular year and whether taxes have been paid on that in a timely manner.It may be noted that millions of people in the country still do not file income tax, which results in losses to the government.Also Read | ITR filing: Important things to know about income tax return for FY2019-20While the government is trying to make tax laws smoother to help more individuals file their returns seamlessly, it is important to note that all individuals in the country are not required to file income tax returns mandatorily.According to Income Tax laws, not every individual in the country has to mandatorily file ITR. Only those individuals whose income exceeds the basic exemption limit (Rs 2,50,000) may not file ITR. However, experts recommend all individuals with income to file income tax returns as it helps in transparency.Individuals should also note that the basic exemption limit for any individual varies with age. For FY 2019-20, the basic exemption limit is Rs 2.5 lakh for individuals aged below 60 years; it is Rs 3 lakh for individuals aged between 60-80 years and it is Rs 5 lakh for individuals aged 80 years and above.In case an individual’s total income exceeds the basic exemption limit in accordance with age, then they are required to mandatorily file income tax returns.However, there are some exceptions where individuals may still need to file income tax returns even if total income — before taxes or other deductions — does not exceed the basic exemption limit.Any individual who has spent an amount of Rs 2 lakh or more for travel to a foreign country has to file returns even if gross income does not exceed the basic exemption limit. Individuals will also have to file income tax returns if an aggregate amount of Rs 1 crore or more has been deposited in one or more current accounts maintained with banks.A person who has paid an electricity bill exceeding Rs 1 lakh in a single bill or on an aggregate basis will also have to file ITR irrespective of gross income.Any resident individual who has a source of foreign income, assets or any account outside India is also required to file ITR returns.ITR will also have to be mandatorily filed if an individual’s gross income exceeds the exemption limit before claiming tax exemption on capital gains under Section 54, 54B, 54D, 54EC, 54F, 54G, 54GA or 54GB, according to The Economic Times.For FY20-21 tax return filing, individuals have two regimes to chose from. An individual can opt for the existing tax regime where they can claim tax exemptions such as HRA, leave travel allowance and deductions under various sections of the Income Tax Act.The individual can also opt for the new tax regime under which most tax exemptions and deductions cannot be claimed, but taxpayers can enjoy a lower tax rate.It is worth mentioning that the base exemption limit will depend on the tax regime chosen by an individual. Under the new regime, the basic exemption limit for all taxpayers — irrespective of age — will be Rs 2.5 lakh. Simply put, if an individual’s gross income exceeds Rs 2.5 lakh, then he/she will have to file ITR mandatorily.Also Read | ITR 2020: Top apps to file Income Tax Return online\n",
      "\n",
      "As France announced a country-wide lockdown beginning Friday, people in Paris started fleeing for the countryside on Thursday evening, causing logjams that stretched for 435 miles (700 kilometres) at one point.There was only a sprinkling of people hurrying along city sidewalks on Friday as the nationwide restrictions came into effect, news agency The Associated Press reported.As novel coronavirus cases swelled in France, French President Emmanuel Macron ordered the second lockdown to put brakes on Covid-19 surge. The new restrictions which came into force on Friday will last until December 1, he said.In France, concerns were growing that rising infections would swamp the country's health system, so authorities ordered another four-week lockdown beginning Friday.Many areas of the French capital resembled a regular lazy weekend morning - on what would normally have been a bustling weekday. Those who were out frequently clutched permission forms proving they had an exemption that allowed them to to be on streets.The only places that were busy were grocery stores and markets as people stockpiled food and other necessities.The 67 million population in France has been ordered to stay at home at all times with no visitors, or risk steep fines or prosecution. There are a handful of exceptions, such as being allowed out for one hour of exercise a day within a half-mile (1 kilometer) of home, to go to medical appointments, to a place of work, or to shop for essential goods. Restaurants and cafés are shuttered, apart from those that offer takeout.Prime Minister Jean Castex was quoted by AP as saying on Thursday, \"Going to friends' houses, having friends over and moving around for anything other than the reasons set out\" will be impossible.That will hit hard for many.\"It's not nice because I left my country to enjoy the experience of living in another country,\" said Laura Beimberg, 28, an intern at cosmetics giant L'Oreal who is from Mexico. \"And this experience of being between four walls, far away from family and friends is so hard.\"France is witnessing new daily cases currently averaging around 50,000. That means that, on a per capita basis, France is seeing about two and a half times the number of new cases each day that the United States is.In the wake of France approving new restrictions in hopes of reversing the trend, WHO European regional director Dr. Hans Kluge said that the national lockdowns a \"last resort option,\" citing the considerable damage the measures inflict on economies, people's mental health and the incidence of domestic violence.But France is not alone. Many of its European neighbours are experiencing rising infections, some even beyond what they saw in the spring. In Belgium, the average number of daily cases is around 150 per 100,000 people, compared to France's approximately 62.The government in Belgium is meeting Friday to consider even tougher restrictions on movement that would amount to a quasi-lockdown. Germany, which is also seeing an increase in cases though on a much less dramatic scale, agreed this week to a monthlong shutdown of restaurants, bars, theatres and other leisure facilities, dubbed \"lockdown light.\"Such measures have taken a brutal toll on economies around Europe, and French Finance Minister Bruno Le Maire gave grim predictions during an interview on France-Inter, raising his estimate for the depth of the recession. He forecasted an 11 per cent fall in GDP this year.French residents could perhaps be forgiven for thinking it was groundhog day, just a few months after they emerged from one of the strictest lockdowns in Europe.Some were accepting of reality.\"We just have to live with it. You have resigned yourself to it,\" said Yoann Boullé, 28, a sanguine evening manager at a Parisian brasserie.But many Parisians, who had had enough last time around, didn't wait to be confined to their typically cramped apartments for four weeks.Carlo Ponti, a 54-year-old interior decorator, was among those who fled Paris, but he did it by train. He called the departure of the Parisians a \"historic exodus.\"He left Friday morning with his husband after finding all trains were booked Thursday night.\"The minute the French president gave his speech (announcing a lockdown), the entire national train website went down, was overloaded. Everyone wanted to book to get away,\" Ponti was quoted as saying.He plans to stay in his second home in the French region of Burgundy until over Christmas.\"During lockdown, the quality of life in the capital is terrible and so everyone who can do, tries to get away,\" he said.Highways around the capital descended into scenes of traffic chaos during the night as residents fled the capital. French media reported that the logjams were more than double the usual in the region around Paris, reaching near-record levels as many headed for the country or family homes with more space.The traffic was worsened by the fact that many were also leaving for the November 1 All Saints' Day holiday.Macron said that authorities would be \"tolerant\" about families returning from the holiday on Monday, but otherwise interregional travel is strictly prohibited.(With inputs from AP)\n",
      "\n",
      "It has been close two months since PUBG Mobile was banned in India. The Indian government, after the country’s tussle with China on the border, banned a number of Chinese apps in the country. PUBG Mobile was one of them. It was banned on September 2. Now, its India servers have gone offline. They are no longer going to be available, says Tencent, the Chinese company that was managing the game in India.So, what’s going on with PUBG Mobile and India? Here is a quick summary, so far:-- As noted by Tencent on October 29 in a Facebook post as well as a forum announcement, the company is ceasing operations of PUBG Mobile India servers and associated services.-- What this means in normal words is that Tencent was running game servers for Indian users. While the PUBG Mobile app had been removed from the Google Play Store and the iPhone App Store, people who had the PUBG Mobile installed on their phones could still play the game if they could get past ISP restrictions. So, some people were side-loading the game updates on their phones, or even using the PUBG Mobile APK to install the game on Android phones. Then, depending on ISP blocking they were either using a proxy or VPN to get past it, or in some cases there was no ISP ban on connecting to PUBG servers from India.What has happened now is that these servers are no longer going to be available to PUBG Mobile players from India. Tencent on October 29 announced that it is switching off these India-specific PUBG servers.PUBG Mobile page for India noted on its Facebook page, “Dear Fans, To comply with the interim order of the Ministry of Electronics and Information Technology dated September 2, 2020, Tencent Games will terminate all service and access for users in India to PUBG MOBILE Nordic Map: Livik and PUBG MOBILE Lite (together, “PUBG Mobile”) on October 30, 2020. The rights to publish PUBG MOBILE in India will be returned to the owner of the PUBG intellectual property.”-- Does this mean there is no way for Indian users to play PUBG Mobile? Kind of. But never say never. What this means is that Indian users may have to reinstall the game, by sideloading the APK, create separate profiles and then connect to global servers to play PUBG. This means they may end up losing all the progress they have made in the game so far.Also, there is a reason why game companies local servers. It allows for better latency, and better-tuned performance. If Indian users join global servers, they may find the latency higher and game less fun. Although, all of this depends on Tencent, or any other company managing the servers. If they want, they may tune servers differently. Though, if they facilitate the gameplay for Indian users, the Indian government may consider that violation of its order and intent, which is precisely the reason why Tencent is shutting down the Indian servers of PUBG Mobile. It’s not that technologically it cannot defy the Indian ban on PUBG Mobile. It just doesn’t want to.-- So just to recap: PUBG Mobile is no longer available in India through the app stores. It was banned on September 2. Internet service providers were earlier told to deny connection requests to know PUBG Mobile servers, though it was difficult to implement. And now Tencent has shut down or at least it has publicly said so -- PUBG Mobile servers that catered to Indian players.-- What does this mean as far PUBG Mobile and India is concerned? Can PUBG Mobile come back to India? In the statement that Tencent gave on October 29, it also said “The rights to publish PUBG MOBILE in India will be returned to the owner of the PUBG intellectual property.” This is something we are hearing again and again. The PUBG Mobile is actually owned by a Korean company, which also runs PUBG on computers. This is the reason why PUBG on computers is still available in India.The Tencent statement shows that there is some development in regards to ownership of PUBG Mobile in India. If the Korean company takes the full charge of development and distribution of PUBG Mobile in India, it is possible that the game may come back. However, this will take time. So, it could be several weeks, or even months, before we see the PUBG Mobile return back to India.\n",
      "\n",
      "Two days after Bihar polled in the first phase of the assembly elections, Shiv Sena leader Sanjay Raut said he won't be surprised if RJD chief Tejashwi Yadav becomes the state's chief minister.\"A young man without any support, whose family members are in jail and the CBI and IT Department is behind him, is challenging everyone in a state like Bihar. I won't be surprised if Tejashwi Yadav becomes Bihar CM tomorrow, bagging majority of votes,\" news agency ANI quoted Sanjay Raut as saying on Saturday.\"Everyone knows what is happening in Bihar during elections. But still, people believe that the elections will be transparent,\" Sanjay Raut said.Sanjay Raut also attacked the Bharatiya Janata Party (BJP), saying that the \"Election Commission [EC] of India is a branch of the BJP\".When asked about EC stating that there was no poll conduct violation in BJP's free vaccine promise in Bihar if the saffron party is elected to power, Sanjay Raut said, \"The Election Commission of India is a branch of BJP. So you cannot expect anything else from them.\"On rumours of BJP leader Pankaja Munde joining the Shiv Sena, Sanjay Raut said he has no clue about it. \"If anybody can offer her, it is [Maharashtra] CM Uddhav ji,\" Sanjay Raut said.Polling in the first phase of Bihar elections took place on October 30 with a voter turnout of 55.69 per cent across the 71 seats. The second phase of Bihar assembly election 2020 will take place on November 3 and the third phase on November 7. Counting of votes will be done on November 10.\n",
      "\n",
      "We are awash in data and most of it accessible anywhere there’s a reliable internet connection. You can thank the meteoric rise of cloud computing for the ability to store vast amounts of data offsite. While this is convenient for consumers who are no longer limited by the size of their disk drives, cloud computing is an absolute game-changer for businesses as well. Expected to grow from an already respectable $371.4 billion in 2020 to $832.1 billion by 2025, the massive cloud computing market is in need of qualified cloud professionals.Even if you haven’t considered a career as a cloud architect or cloud specialist, nearly every industry is transforming its IT infrastructure to be more efficient, scalable, and accessible through cloud technology. Whether you need to enhance your cloud skills in your current role or want to embark on a lucrative, new career in cloud computing, taking up a cloud computing course and upgrading your knowledge and skills in this field can really pay off. Thankfully, there are a number of online training options available to learners in India.What makes a high-quality Cloud Computing course?When you’re investing in your career, make sure you choose your institute wisely. You’ll want to choose the learning solution that works best with your budget and schedule, while basing your decision on measurable criteria. We considered the following criteria for our ratings:The top five cloud computing courses available to learners in India, based on our research using the above criteria are:1. Post Graduate Program in Cloud Computing from Simplilearn in collaboration with Caltech CTMESimplilearn’s Post Graduate Program in Cloud Computing, in collaboration with the Caltech Center for Technology & Management Education (CTME), provides comprehensive, career-ready training in cloud computing. This 12-month Cloud computing course (five to 10 hours per week) is ideal for working professionals looking to make a career change or enhance their cloud skills. Simplilearn’s partnerships with Amazon and Microsoft ensure that materials are up to date and relevant to today’s professional needs.This Cloud Computing course from Simplilearn provides hands-on training to help you master the designing, planning, and scaling of cloud-based systems. You will master the core concepts of the three main cloud computing platforms: Microsoft Azure, AWS, and Google Cloud Platform.Course Highlights:2. Cloud Computing Architecture Master’s Degree from the University of Maryland Global Campus (UMGC)The Cloud Computing Architecture Master’s Degree from UMGC, named a National Center of Academic Excellence in Cyber Defense Education by the National Security Agency and the Department of Homeland Security, provides extensive training in cloud systems. This cloud computing master’s program is focused on business processes, such as financial management, procurement, and communications. Graduates will be able to implement a cloud-based architecture at all levels of an organization.While there is no specific prerequisite for this cloud computing training program, it is recommended that you have a professional or academic background in IT. Faculty members have real-world experience at high-profile corporations such as IBM, Juniper Networks, and Oracle.Course Highlights:3. Post Graduate Diploma in Software Development, Specialization in Cloud Computing, from the International Institute of Information Technology (IIIT) Bangalore (through UpGrad)The Post Graduate Diploma in Software Development, Specialization in Cloud Computing, offered through upGrad in partnership with the IIIT Bangalore, is designed to enable learners to advance their careers and make a mark in the industry. The program provides extensive career-assistance resources for all learners. The course covers cloud infrastructure, services, and business; virtualization; deployment; building cloud-native applications; and much more.While no prior coding experience is necessary, you must have an engineering degree to enroll. Graduates are well-positioned for careers as cloud developers, cloud architects, cloud engineers, cloud software developers, and cloud administrators.Course Highlights:4. Postgraduate Certificate Program in Cloud Computing from Jigsaw AcademyThe online Postgraduate Certificate Program in Cloud Computing from Jigsaw Academy is a six-month master’s program covering cloud computing essentials, DevOps, and IoT. It covers AWS, Google Cloud Platform, Azure, and more. This training program is open to graduates with marks of at least 50 percent and two to eight years of professional experience.Course Highlights:5. PG Certificate Program in Cloud Computing from Manipal Academy of Higher EducationThe PG Certificate Program in Cloud Computing from Manipal Academy of Higher Education is designed for IT Graduates and IT Professionals. This six-month program includes live, online mentoring sessions in addition to extensive hands-on projects to help you become career-ready upon completion. In addition to the fundamentals of cloud computing, this program covers tools like Cloud Foundry, Google Cloud.Course Highlights:Wrapping UpAs more and more of the world’s data gets stored in the cloud, the demand for well-trained cloud computing professionals continues to increase rapidly. Whether you’re enhancing your cloud skills for your current role or planning to enter an entirely new field, it’s never too late to go upskill and learn something new. Best of all, most of these programs are designed to fit within your busy schedule.But it’s important that you do your research and understand what these institutions have to offer, and whether they’re the right fit for your needs. There’s never been a better time for Indian professionals to boost their skills and jumpstart their careers in the exciting field of cloud computing.If you have any questions or suggestions, feel free to leave them in the comments below.Thanks for reading and keep learning!\n",
      "\n",
      "Selecting the best PC to match your requirement can be intimidating. Let's help you select the right computer that will suit your needs. So, let's first build your profile and check what you're looking for...Looking for more information on Intel® powered PCs? Please visit their retail partners, Flipkart, Amazon, Croma, and Reliance Digital.\n",
      "\n",
      "Poker is a game that tests your patience, intelligence and strategic skills at the same time and to the max! Understandably, the thrill of winning a game of poker by outsmarting your opponents is enormous and brings a big grin to your face. While a poker win makes you richer than before, it is so much more than just winning money. Proving to your opponents that you were the smartest person on the table is an incredible feeling that cannot be put into words. But it can surely be with a feel good, upbeat video.Adda52, India’s largest online poker platform, has just launched a brilliant campaign that celebrates the pure joy one feels after their first poker win. The campaign is called #PehlaGameKhelKeDekho and features well-known digital entertainer Jeeveshu Ahluwalia as a man who is ecstatic after winning his first ever online poker game. The campaign video captures the essence of what a first-time victory feels like so beautifully, that you won’t be able to watch it without smiling.So, what makes winning at poker such a joyous achievement? Let’s find out.1. It challenges youIt’s human to love challenges. With every challenge that we fulfill, we become stronger and more aware of our skills. Poker isn’t a game that you can win by sheer luck. It requires you to be alert, patient and always ten steps ahead of your opponents. It’s a battle of wits that only the mentally strongest can win, and therein lies the true appeal of poker.2. You win, your friends loseDo you know what’s better than winning at poker? Winning at poker with your friends! There’s something extremely satisfying about seeing the look of defeat on their faces as they take out your winnings from their wallets and hand them to you. This is why Adda52 is such a hit with young people. It’s a one-of-a-kind online multiplayer game that not only lets you play with strangers, but also allows you to invite your friends to play on a private table.3. The money (duh!)This one is kind-of obvious. The monetary winnings make every poker win so much better. If you play your cards right, you might become rich overnight! Adda52 lets you play poker with real people and win real cash. Moreover, the portal is running five 1000 GTD tournaments daily, which gives you a chance to win up to INR 5000 every day.4. It improves your chances of winning future gamesPoker is a game of confidence. Every poker win makes you more confident for your next game, which makes you a stronger player and boosts your chances to win. Especially when you’re playing your first poker game, a win can make you feel like you’re on cloud nine. Don’t believe us? Head over to Adda52 and #PehlaGameKhelKeDekho. Just by signing up on the portal, you win INR 500 which can be used to win even more money.Download the Adda52 app now and experience the pure joy of winning.\n",
      "\n",
      "For the first time ever, a woman has become the CEO of an Indian carrier, with the government appointing Harpreet A De Singh as the CEO of Air India’s (AI) regional subsidiary Alliance Air.According to a report in Times of India, AI CMD Rajiv Bansal issued an order on Friday, saying Singh “will hold the charge of Alliance Air CEO post till further orders.”Singh is currently AI’s executive director (flight safety). In place of her, the new ED of AI will now be Captain Nivedita Bhasin, one of the airline's most senior commanders currently flying Boeing 787 Dreamliner, said the report.Captain Nivedita Bhasin has also been asked to head several other departments, given her experience.As per Times of India, Harpreet Singh was the first woman pilot to be selected by Air India in 1988. Though she could not fly due to health reasons, she has been very active in the area of flight safety. The Indian Women Pilot Association is headed by Singh. The association has Bhasin and other senior women commanders like Captain Kshamta Bajpai as well who are seen as role models by budding pilots.As per the report in Times of India, Alliance Air will remain a PSU for now as it is not being sold off with the Air India-AI Express-AISATS combine.AI’s old Boeing 747s will be transferred to Alliance Air, which currently has a fleet of turboprops, if the Maharaja gets a buyer and is privatised.\n",
      "\n",
      "The year 2020 started off with the semifinal between India and Pakistan and two comical runouts from both ends in the same match. Pakistan cricket team and comical run outs have been a part of the sport for the longest time and on Friday during the 1st ODI between Pakistan and Zimbabwe, fans got to see another such event as star batsman Imam-ul-Haq and Haris Sohail got involved in a comical run out.Both left-handed batsmen ended up on the same end, the striker’s end, as the fielder threw the ball at the non-striker’s end and the bowlers took the bails off. Sikandar Raza, bowling the 26th over, bowled a half volley to Imam-ul-Haq who nudged it to the third man and even though there wasn’t a run there, Sohail started to run from the other end. There was a sheer miscommunication between the left-handed pair as Imam barely moved from his crease and as Sohail ran to the striker’s end, Imam made a dive back to his crease.However, with both batsman on one end and Raza taking off the bails at the bowler’s end, the third umpire finally declared Imam (58 off 75) out, leaving the total at 119/3 at 25.5 overs.Fans on Twitter were left bamboozled and massively reacted to the comical runout.Match kay start say imam nay run out karwanay ka soocha huwa tha phr bichara khudi hogeyaye imam ul haq kay run out ne inzimam ul haq ki yaad taza ker di. Lmao!Simple bat Hein When Imam was Getting the Flow Haris Stupidly Gets him run-out and that cost 20 to 30 runs In the Score,Needs Active coordination,Drop Haris and AbidInclude Haider and Khushdil,There was also a lot of confusion as to why Imam, and not Sohail, was declared run out.Was clearly Harris’ call and both would have reached home safely. I thought from replays that Imam reached crease first and Harris was the one run out.According to the MCC, “If there is no batsman in either ground, then each ground belongs to whichever batsman is nearer to it, or, if the batsmen are level, to whichever batsman was nearer to it immediately prior to their drawing level.” Imam was given out based on this rule based on the batsman of his/her ground.Pakistan went on to beat Zimbabwe in the 1st ODI, by a margin of. 26 runs, at the Rawalpindi Cricket Stadium.\n",
      "\n",
      "Two men allegedly duped a Meerut doctor of Rs 31 lakh by selling him Aladdin's magic lamp. They even convinced the doctor about \"Aladdin\" appearing from the lamp when it is rubbed.The accused -- Ikramuddin and Anees -- were arrested in Uttar Pradesh's Meerut. Police said that three people were involved in the case of cheating.Aladdin is a fictional character from the popular Middle Eastern folk tale Arabian Night, while the \"magic lamp\" is an artefact that brings forth a wish-granting genie when rubbed (in the story).According to a report in NDTV, Dr LA Khan, said that the con artists managed to summon \"Aladdin\" from a golden-coloured lamp to convince him. While narrating his ordeal, the doctor said that in the end, he realised that one of the accused had dressed as Aladdin and appeared before him.The victim had filed a complaint against the two accused with local police on October 25.The report quoted the doctor as saying that he first met Ikramuddin and Anees when he began treating a woman whom they described as their \"ailing mother\".Dr Khan was quoted as saying in his complaint, \"I started visiting their home to treat the supposed mother. The visits continued for over a month. Gradually they started telling me about a baba [godman] whom they claimed also visited their home. They started brainwashing me and asked me to meet this baba.\" The doctor said he met the godman \"who seemed to perform such rituals\", NDTV reported.The doctor further said that the accused had told him that they would sell him a 'chirag' (lamp) for Rs 1.5 crore but \"I could only offer a Rs 31 lakh down payment\".\"They told me this lamp would bring wealth, health and good fortune. They said this is 'Aladdin ka chirag' [Aladdin's lamp],\" Dr Khan said.\"During one visit, \"Aladdin\" actually made an appearance in front of me. I did not know who this person was at that time. I later realised [one of] the accused was dressing up as 'Aladdin',\" the doctor was quoted as saying.\n",
      "\n",
      "Prime Minister Narendra Modi on Saturday paid tribute to the ‘Iron man of India’ Sardar Vallabhbhai Patel on his birth anniversary, marked by the ‘Rashtriya Ekta Diwas’. While recounting Patel's contributions and how he played a central role in the unification of India, PM Modi said the message of unity is more important in today’s world where terrorism has become a serious problem.PM Modi called upon all countries of the world to unite in the fight against terrorism. He said India has lost thousands of brave soldiers due to terrorism and knows the “pain of terror”.“Peace is unity and harmony is the true mark of humanity, there can never be welfare from terrorism and violence,” PM Modi said.“Today, all countries of the world need to unite against terrorism. India has always fought against terrorism.”PM Modi also spoke on the Pulwama attack which resulted in the death of 40 CRPF personnel in 2019. “The country can never forget that some people were not saddened at the sacrifice of the security personnel during the Pulwama attack,” he said.Narendra Modi attacked the people who were playing \"dirty politics\" over the Pulwama attack for their personal gains and requested them not to do so in the interest of the nation. PM Modi's remarks came after a Pakistani minister Fawad Chaudhry recently lauded the Imran Khan government for the Pulwama attack.\"The country cannot forget the unwanted statements given after Pulwama attack. Dirty politics laced with selfishness and arrogance was at its peak when the country was suffering from immense pain,\" Modi said.\"The real face of such people has been exposed after the truth was accepted in the Parliament of our neighbouring country,\" he added.\"Politics done after Pulwama attack shows that people can cross any limit for their political gains. I want to urge such political parties not to indulge in this kind of politics as it affects the morale of our security forces,\" he said.\"You should refrain from playing into the hands of anti-national forces, knowingly or unknowingly,\" he added.#WATCH The way the truth (about Pulwama attack in India) has been admitted in the parliament of the neighbouring country, it has exposed the real faces of those who did politics over the incident, says PM Modi in Gujarat pic.twitter.com/lePhMUBJlVAlso Read | Here’s why Pak confession on Pulwama may haunt some Opposition leaders in IndiaThe prime minister also spoke about the coronavirus pandemic and saluted all corona warriors in the country for their contribution in fighting the deadly virus.While stressing on the fact that the fight against Covid-19 is not yet over, he praised India’s fight against the contagion. “130 crore Indians together honoured the Covid-19 warriors in their fight against this pandemic. The way the country has proved its collective potential during this time is unprecedented,” PM Modi said.\"When other countries of the world are struggling against the pandemic, India has fought it bravely and is coming out of it,” PM Modi added.He went on to say that “today’s India” is fulfilling the remaining dreams of Sardar Vallabhbhai Patel and is establishing \"new dimensions of unity\".\"Today, once again, India is repeating its pledge for the progress of the country under Sardar Patel's guidance,\" PM Narendra Modi said. He highlighted several landmark steps that have been taken including the decision to scrap Article 370 in Kashmir, the steps taken for the development of North East and the landmark Ram Mandir verdict given by the Supreme Court.“Today, Kashmir has moved on a new path of development...Whether it is the restoration of peace in the Northeast, or the steps being taken for development there, today the country is establishing new dimensions of unity,” PM Modi said.PM Modi, who is one two-day visit to Gujarat, also spoke about the host of projects including India's first seaplane service during his address. He said all of these projects will boost tourism in the region and help generate employment.“The seaplane service from Sabarmati riverfront to Kevadia will be started today. This will help boost tourism in this area: Prime Minister Narendra Modi at the Statue of Unity in Gujarat,” he said.Later in the day, PM Modi will address the Civil Services Probationers at around 11 am. He will then inaugurate a host of projects including the Water Aerodome in Kevadia, the seaplane service from Kevadia to Sabarmati Riverfront.Also Read | PM's Gujarat visit: PM Modi inaugurates Jungle Safari, pays tributes to Keshubhai Patel(WIth inputs from PTI) \n",
      "\n",
      "Former Madhya Pradesh Chief Minister and senior Congress leader Kamal Nath on Saturday said he does not want to comment on the Election Commission of India’s (EC) decision to revoke his star campaigner status.Nath went on to say that star campaigner is neither a post nor a status and added that he will comment on the move only after November 10.“Star campaigner is neither a post nor a status. I don't want to comment on EC's decision, will comment only after November 10,” Kamal Nath was quoted as saying by news agency ANI.He then said that the view of the public matters most in the end and added that “they know everything”.On October 30, the EC revoked ‘star campaigner’ status of Kamal Nath for repeatedly violating the model code of conduct during his campaign for the by-elections to 28 assembly seats in the state.The EC had earlier asked Kamal Nath to respond to repeated instances of him violating the model code of conduct. Though Nath responded, it was found to be “unsatisfactory’ by the election body.Also Read | Kamal Nath’s ‘item’ jibe at Imarti Devi unlikely to impact Madhya Pradesh bypollsFollowing this, the EC decided to revoke Nath’s star campaigner states.\"If any campaign is done by Kamal Nath from now onwards, the entire expenditure will be borne by the candidate in whose constituency the campaign is being undertaken,\" the Election Commission said.While EC firmly announced its decision, the Congress has decided the challenge the Election Commission’s order in court.\"The Congress party will move court against Election Commission's revocation of party leader Kamal Nath's star campaigner status,\" Narendra Saluja, media coordinator for Madhya Pradesh unit of Congress, was quoted as saying by news agency ANI.\n",
      "\n",
      "Moderna Inc is \"actively\" preparing to launch its potential coronavirus vaccine mRNA-1273. Meanwhile, Johnson & Johnson is planning to start testing its experimental Covid-19 vaccine among those aged 12 to 18 as soon as possible. Also, India announced on Friday that it will help all countries with vaccine and storage capacity.Here are the latest updates on the coronavirus vaccine:Moderna CEO Stephane Bancel has said in a press release that the pharmaceutical company is preparing to launch its potential coronavirus vaccine mRNA-1273.\"We are actively preparing for the launch of mRNA-1273 and we have signed a number of supply agreements with governments around the world,\" Moderna CEO Stephane Bancel said in a press release on Thursday.According to reports, the company has received $1.1 billion in customer deposits for the shots during the third quarter, the company said.Last week, Moderna had completed enrollment for its 30,000-participant late-stage trial. Till then, more than 25,650 participants had received the second of the company's two-dose Covid-19 vaccine. A report in CNBC had quoted Moderna as saying that about 37 per cent of the participants were from diverse communities and 42 per cent were at high risk of severe disease.Moderna Inc had told Reuters that it would seek emergency FDA authorisation to use its vaccine in high-risk groups if an interim assessment of its trial showed its vaccine was at least 70 per cent effective.According to a Reuters report, Johnson & Johnson is planning to start testing its experimental Covid-19 vaccine among those aged between 12 and 18 as soon as possible. The company's previous experience with the same technology in a vaccine successfully used in children could give it a leg up with regulators, it said.\"We plan to go into children as soon as we possibly can, but very carefully in terms of safety,\" Johnson & Johnson's Dr. Jerry Sadoff quoted as saying on Friday.In a statement earlier, Johnson & Johnson had said that it is currently in discussions with regulators and partners regarding the inclusion of the pediatric population in its trials.Meanwhile, drugmaker Pfizer Inc has already begun testing the Covid-19 vaccine, it is developing in partnership with Germany's BioNTech, among children as young as 12. Their vaccine uses messenger RNA (mRNA), a new technology that has yet to produce an approved vaccine.Dr Anthony Fauci, the top US infectious diseases expert, said on Thursday, \"If all goes well, the first doses of a safe and effective coronavirus vaccine will likely become available to some high-risk Americans in late December or early January\".Based on current projections from vaccine front-runners Moderna Inc and Pfizer Inc, Americans will likely know \"sometime in December whether or not we have a safe and effective vaccine,\" Fauci, director of the National Institute of Allergy and Infectious Diseases, was quoted by Reuters as saying in a live chat on Twitter and Facebook.\"The first interim look (at trial results) should be, we hope, within the next few weeks,\" he said.Government of India has asked states to constitute committees for coordination and overseeing Covid-19 vaccination drive while ensuring minimal disruptions in other routine healthcare services. These committees will also carry out stressed early tracking of social media to dispel rumours which could impact the community acceptance of coronavirus inoculation.Stating that Covid-19 vaccine introduction will span over a year with multiple groups being included \"sequentially starting from health care workers\", the Health Ministry has sought constitution of committees at the state and district levels which will review preparatory activities in terms of cold chain preparedness, operational planning, strategies for state-specific challenges in terms of geographical terrain and hard-to-reach areas, etc.India's vaccine production and delivery capacity will be used to help all humanity in fighting the novel coronavirus-19 pandemic, news agency PTI quoted the Ministry of External Affairs as saying. It further said that the country will also help other countries in enhancing their cold chain and storage capacities.Ministry of External Affairs Spokesperson Anurag Srivastava said that as part of such efforts, India organised two training modules for its neighbouring countries in which about 90 health experts and scientists participated. \"We propose to expand these programmes to include other interested countries,\" he was quoted as saying at an online media briefing.\"As announced by Prime Minister [Narendra Modi] in his speech to the UN General Assembly last month, India's vaccine production and delivery capacity will be used to help all humanity in fighting the Covid-19 pandemic,\" Anurag Srivastava said.Australia has announced it will spend 500 million Australian dollars ($351 million) to secure coronavirus vaccines for the Pacific and Southeast Asia \"as part of a shared recovery for our region from the pandemic\", another report in the AP said. The government was quoted as saying that it would use a range of advance purchase agreements with manufacturers via the global COVAX Facility plan, which aims to ensure Covid-19 vaccines are shared with all nations.\"We are committing an additional AU$500 million over three years towards this effort...A fast, safe vaccine rollout ... will mean we are able to return to more normal travel, tourism and trade with our key partners in the region,\" the Australian government was quoted as saying.(With inputs from AP, Reuters, PTI, CNBC)\n",
      "\n",
      "A video showing the widespread destruction that was caused in Turkey after a strong earthquake struck the Aegean Sea on Friday and triggered a mini-tsunami has surfaced on the internet. Buildings crashed down as tidal waves slammed into coastal areas and islands.WHAT HAPPENED IN TURKEY?An earthquake struck with a magnitude of up to 7.0 in the Aegean Sea on Friday that had a cataclysmic effect on Turkey and Greece, and especially in the Turkish city of Izmir. People ran here and there in panic. Located on Turkey's Aegean coast, Izmir is the country's third-largest city.Ragip Soylu, Turkish journalist, tweeted a video that showed a particular area deluged with surging seawater in Izmir. Houses were submerged as water flowed through the neighbourhood, carrying furniture and other household items along with it.\"Another tsunami footage from the earthquake in Izmir province of Turkey. This one is really dangerous,\" Ragip Soylu said in the caption of his post.Watch the videos here:Another tsunami footage from the earthquake in Izmir province of Turkey.This one is really dangerous pic.twitter.com/62zfddWSi8This is getting apocalyptic. Sea water recedes in other parts of Izmir of Turkey after the earthquake pic.twitter.com/xmSmtQmipfAnother video showed distressing images after the earthquake:Distressing images out of Izmir, Turkey’s third biggest city, hit minutes ago by a 6.8 earthquake (epicenter was on the Aegean) pic.twitter.com/qmkxzIvlQhAFTER EFFECTS OF THE EARTHQUAKESearch and rescue operations are underway. Turkey's Disaster and Emergency Management Presidency (AFAD) said that 19 people died and over 700 were left injured. On the Greek island of Samos two teenagers, a boy and a girl, were found dead in an area where a wall had collapsed, Reuters reports.Turkey Urbanisation Minister Murat Kurum said that authorities were setting up tents wih a total capacity of 2,000 people near areas with the highest damage.(With inputs from Reuters)ALSO READ: 19 killed, over 700 injured as strong earthquake hits Turkey, Greek islandsALSO READ: 4 dead, 120 injured as earthquake of magnitude 7 hits Turkey's Izmir, triggers mini-tsunami\n",
      "\n",
      "Dear Reader,So it's the best day of the week if you work Monday to Friday. If you've got weekends working, we empathise with you. But anyway. The weekend still means time to mentally detach a little from all your corona-laced worldly affairs and sit back with what you most love. Binge watching that web series, cooking that dessert or dusting off the jacket of a favourite book and burying yourself in it. Whatever it is you love doing, the weekend is probably the perfect time to do it.This weekend, we are soaking in some good old shaadi essence thanks to Kajal Aggarwal. Kajal is marrying businessman Gautam Kitchlu in Mumbai today. Before Kajal we had Neha Kakkar and Rohanpreet Singh exchanging the varmala in Mohali and following it up with a bash in Delhi. In London, former Indian Solicitor General Harish Salve and artist Caroline Brossard said 'I do' to each other in a quiet church wedding. It almost feels like the shaadi season has officially kicked off... albeit with those masks and sanitisers.So if you're not invited to a wedding or don't plan on attending one (frankly, this is the better option in Corona Kaal), how about some piping hot jalebi this weekend? We have a recipe for you to try. Don't skimp on the workout though. Take cues from Malaika Arora, Rakul Preet Singh and Esha Gupta.On OTT, you have a host of options to choose from. More on that in our OTT section. If you loved The Haunting of Bly Manor, our pick from the bookshelf will remind you of its predecessor: The Haunting of Hill House. Well, given that it's Halloween this Saturday, the book will deliver all the chills and spook that you need for this corona-era Halloween.And finally, to TV. Bigg Boss 14 promises some drama this weekend thanks to Jaan Kumar Sanu. There's The Kapil Sharma Show where Akshay Kumar and Kiara Advani are paying a visit for their upcoming film Laxmii, which was earlier called Laxmmi Bomb. All that and more this weekend. Here's your Weekend Planner.WHAT'S TRENDINGCoronavirus cannot get in the way of love. Nothing can, actually. Consider Neha Kakkar, Harish Salve and Kajal Aggarwal for that matter. Resplendent in red, Neha Kakkar married Rohanpreet Singh over the weekend and their wedding sent the internet into an overdrive. What was the internet busy discussing? Neha ki shaadi ka joda. Uske joote. Bangles. Make-up. Wedding venue, khaana, and of course, some gaana-bajaana.You know My #NeHearts? Your Nehu is the Happiest Bride and it’s all because of My Mr. Singh! Thank you god! Thank you @rohanpreetsingh Best Moments Captured by one and only @deepikasdeepclicks #NehuDaVyah #NehuPreetA post shared by  Neha Kakkar (Mrs. Singh) (@nehakakkar) on Oct 29, 2020 at 8:30am PDTBriefly though, but the spotlight shifted to Harish Salve soon after as the senior advocate announced his wedding. Harish Salve married London-based artist Caroline Brossard in a church wedding in London. Do you want to know more about her? Here you go.Also, Kajal Aggarwal is getting married to entrepreneur Gautam Kitchlu today. So yeah.There's an update about Kanta Prasad and his wife Badami Devi as well. The Baba Ka Dhaba couple received a special gift of clear eyesight from a blessed doctor.My friend’s father (who is a doctor) saw #BabaKaDhaba go viral and realised both Kanta Prasad and Badami Devi have cataract. He gave them both the gift of clear eyesight today. Thank you so much, sir!!! Touching to see the continued act of kindness pic.twitter.com/9N4Mul8Zq3But one second, before we forget, we'd like to ask you that have you ever heard of henna lip stain? This woman just applied it and the internet is baffled. What do you think?......this a joke?pic.twitter.com/0PQE9K98pUIf you are a wildlife enthusiast, you'd be delighted to know that a Black Panther was spotted roaming around a mountain forest somewhere in India. Also, a rare yellow turtle was rescued from a pond in West Bengal's Burdwan.What the internet also couldn't understand is this video of a Russian YouTuber, who burned his Mercedes-AMG GT 63 S in the middle of an empty field. The car is worth Rs 2.42 crore in India. Why would you do that?Well, on another note, if you are looking for a job, we'd like to inform you that the British Royal Family is looking for a housekeeper and will pay you Rs 18.5 lakh as starting salary. Do consider. Details here.Also, here's a warning note before you head to our next section for happy stories. India has recorded over 80 lakh novel coronavirus cases. Smriti Irani has tested positive as well. So, keep the mask on. Wash your hands. Maintain social distancing. You know the drill.SOMETHING TO MAKE YOU SMILESeveral clips helped us get through this week. This video of a baby playing with his dad's face mask and laughing hysterically while at it made us smile.Because most everything sucks right now please enjoy this baby laughing with daddy.Needed it today...pic.twitter.com/0L2WWWix0xHere's another clip of a toddler having a gala time with his furry friend.One of the cutest things you will see today pic.twitter.com/8GaZ6gC6xJEver seen a group of birds playing volleyball? Well, this clip that showed two teams of birds at play impressed the internet.An elephant herd made the most of their time while enjoying a mud bath. Watch the video for sure.DON'T STOP WORKING OUTIn case you were planning to start your weekend on a fit note with lots of intense exercises, then worry not because we have the perfect way to get you motivated. The best way to take inspiration is from the fittest celebs in Bollywood who always urge us to give up on laziness and pick up that yoga mat.Malaika Arora, who is a yoga enthusiast with her own yoga series called Malaika's Move Of The Week, shared a picture of herself doing the Natrajasana. This yoga posture is known to strengthen the core and the back muscles, thereby improving balance.As the festive nights of Navratri end with the celebration of Dussehra, we are taken back in time that signifies the victory of good over evil. Keeping this in mind, let's begin with this week's pose, enriching ourselves as we keep our mind and body healthy! #MalaikasMoveOfTheWeek is Natarajasana variation 1. Stand straight with legs together, holding stick with right hand in front of you. 2. Inhale and bend your left knee from back. 3. Exhale and with left hand grab your ankle and lift your leg up. 4. Your left toe pointing towards ceiling. At the same time pressing your ankle against the body. 5. Hold for 10 to 15 seconds and release. This asana strengthens your core and back muscles thereby improving balance. Do tag me, @sarvayogastudios and @thedivayoga when you post. Pic Credits: @by.the.gram #mondaymotivation #moveoftheweek #fitindiamovement #yogalife #sarvayoga #divayoga #yogaasana #yogaposes #strongerwithsarvaA post shared by  Malaika Arora (@malaikaaroraofficial) on Oct 26, 2020 at 1:01am PDTRakul Preet Singh also shared a video of herself doing leg extensions without a machine. So, in case you were looking for an excuse, this video of the actress will definitely make you hit that yoga mat.@smackjil Excuses don’t burn calories A post shared by  Rakul Singh (@rakulpreet) on Oct 24, 2020 at 4:30pm PDTEsha Gupta also shared an image in which she was seen doing the Dandayamana Dhanurasana or the standing bow pose. To do the pose, she stood on her right foot. With her right hand stretched out in the front, she held her left leg with her left hand making a bow and arrow shape.“Very little is needed to make a happy life, it is all within yourself, in your way of thinking”- Marcus AureliusA post shared by  Esha Gupta (@egupta) on Oct 27, 2020 at 1:38am PDTSo, are you ready to strengthen your core?KHAANE MEIN KYA HAI?The festive season is here and so is the time to gorge on delectable desserts. This week, we will teach you how to make jalebis at home.To make jalebis, add one cup of refined flour and one-fourth cup of yoghurt in a bowl and a pinch of baking soda in it. Let this mixture rest for 5-7 minutes. While it is resting, make sugar water. In a pan, add three-fourth cups of water and mix one cup of sugar in it along with a few drops of lemon. Let this mixture come to a boil and after that, add saffron to it.Put the yoghurt batter in a cone bag and deep-fry it. As a fun exercise, you can try making various shapes. Strain the jalebis and immerse them in sugar water. Serve hot.WHAT TO READ?With the recent release of Mike Flanagan's The Haunting of Bly Manor, we thought it would be perfect for you to revisit Shirley Jackson's classic spooky novel The Haunting of Hill House. And since Halloween is just around the corner, pick up this book that is considered to be one of the best literary ghost stories published during the twentieth century. This unnerving tale, the opening paragraph of which will manage to give you your first tingle of unease, is one of the best haunted-house stories ever written.FASHION KA JALWA#IshaRah A post shared by  Ananya  (@ananyapanday) on Jan 28, 2020 at 10:44pm PSTIt is Ananya Panday's birthday today, and to celebrate her, we list top five ethnic outfits that she dazzled in during weddings and fashion weeks over the course of time. In case, you are planning your attire for an event in the near future, take cues from Ananya's style, in our Fashion Friday section this week.MOVIES KI DUNIYA SEEven though cinemas have opened up, OTT platforms remain the one stop destination for movie releases this week as well. We don't mind, for it gives us the luxury of binging on them as per our convenience. Win-win, we say.So we have Taish dropping today, a crisp Bejoy Nambiar film, that's also a web series, starring Jim Sarbh, Pulkit Samrat, Kriti Kharbanda and others. Now, why is it a movie and a web series, read Bejoy's interview to find out.Apart from this, we have the usual weekly stuff. For Monday Masala, we revisited Anubhav Sinha's Ra.One, and how that was Bollywood's version of Iron Man. Tuesday Trivia was about little known facts about Mohabbatein, as it turned 20. Wahiyat Wednesday went to Ae Dil Hai Mushkil, and we had to very mushkil se re-watch this Karan Johar film to once again come to the conclusion that ADHM is not about love, ek tarfa or otherwise.Also, there is an update about the title of Akshay Kumar's Laxmmi Bomb. The film has been renamed as Laxmii now. Read the full story here.Veteran Bengali actor and our beloved Feluda, Soumitra Chatterjee remains critical, with doctors doing their all to get him better. We're keeping a close watch, worried, but hopeful that Feluda will bounce back and summon Topshe.And now, off to our OTT section.OTT PE KYA CHAL RAHA HAI?WHAT'S ON AMAZON PRIME VIDEO?What to watch: Truth SeekersYou will like it if you liked: GhostbustersNick Frost, Samson Kayo, Simon Pegg, and Emma D'Arcy star in this supernatural comedy series that began streaming from October 30. In the show, these part-time paranormal investigators team up and try to get to the bottom of a conspiracy and find out the truth.What to watch: Bheemasena NalamaharajaYou will like it if you liked: Un Samyal ArayilDirector Karthik Saragur's Bheemasena Nalamaharaja is the third Kannada film that is streaming on Amazon Prime Video. The film is about a passionate cook who meets a woman who stays in the resort he works. As he ends up telling his love story to the guest, it opens up a new world for them. Bheemasena Nalamaharaja is a family entertainer that would evoke feelings of togetherness and the irrevocable bond of kinship.WHAT'S ON ZEE5?What to watch: TaishYou will like it if you liked: Khuda HaafizA new family revenge-drama joins the list of shows and films available for streaming this week. Taish, a film as well as a web-series, premiered on October 29 and is a tale of brotherhood, friendship, betrayal and revenge. Taish has an array of talented actors including Jim Sarbh, Pulkit Samrat, Kriti Kharbanda and Ankur Rathee among others.What to watch: Ek Jhooti LovestoryYou will like it if you have watched: A Suitable BoyEk Jhooti Love Story is directed by Mehreen Jabbar. It talks about how people are busy chasing a perfect world. It is the story of two individuals, Salma and Sohail, whose parents are desperate to find suitable partners for them. It will be released on October 30.WHAT'S ON DISNEY+HOTSTAR?What to watch: This Is Us 5You will like it if you like: This Is Us (1-4)The most favourite show of everyone, This Is Us, is finally here with its new season. This Is Us 5 started streaming on Disney+Hotstar on October 28. The show was delayed due to the novel coronavirus pandemic. While season 4 was all about more characters and ambitious storylines, this time the episodes will focus more on new beginnings and uplifting moments. Recent issues that have been making the news recently, like #BlackLivesMatter protests and the pandemic, will also play a pivotal part in the storyline.WHAT'S ON SONYLIV?What to watch: Surgical Operations TeamsYou will like it if you have watched: Uri: The Surgical Strike, A WednesdayShort teaser of SOT Surgical Operations Team Season one written by me coming soon on Sony Liv. pic.twitter.com/t0HBC3gTcXThis action drama is about two individuals who get together to prevent deadly attacks on the nation. It stars Gashmeer Mahajani and Yudhishtir Singh in the lead roles. Pooja Gor, Mantra and Ashmita Jaggi play supporting roles in the series. It will be released on October 30.TV PE KYA CHAL RAHA HAI?What to watch: India's Best DancerWhere to watch: Sony TV, 8 pm (Saturday and Sunday)Daya bhabhi bann kar jab #RutujaTheBest ne lagayi ‘Ae Haalo’ ki pukaar, jhoom uthe Tappu ke papa aur #TaarakMehtaKaOoltahChashmah ka pura parivaar! Tune in to #IBDxTMKOC special, this Sat-Sun at 8 pm, on Sony TV. #IndiasBestDancer pic.twitter.com/0jQKaGElCaIndia's Best Dancer will welcome Taarak Mehta Ka Ooltah Chashmah team on the show, which will include producer Asit Kumarr Modi, actors Dilip Joshi, Munmun Dutta, Amit Bhatt and Shailesh Lodha. IBD contestant Rutuja will win hearts as Dayaben.What to watch: Bigg Boss 14 Weekend Ka VaarWhere to watch: Colors TV, 9 pm (Saturday and Sunday)Bigg Boss host Salman Khan will be back this weekend to analyze where BB contestants went wrong and who performed well during the week. This week, Rahul Vaidya said that Jaan Kumar Sanu was on the show due to nepotism. Let's see if Salman reprimands him for this statement or not. Jaan was also in the news for insulting Marathi language. However, he later apologised. This week, the voting lines are closed. It will be interesting to see what new twist BB introduces this week.What to watch: The Kapil Sharma ShowWhere to watch: Sony TV, 9.30 pm (Saturday and Sunday)Jokes ke fatenge bomb toh laughter ki aayegi awaaz, aa rahein hai Bollywood Superstar Akshay Kumar aur Kiara Advani banaane iss episode ko aur bhi khaas. Dekhiye #TheKapilSharmaShow 1st Nov Sunday raat 9:30 baje. @KapilSharmaK9 @kikusharda @Krushna_KAS @bharti_lalli pic.twitter.com/wIcVTowyvuKapil Sharma will welcome the Laxmmi Bomb team on the show on Sunday. Akshay Kumar and Kiara Advani will have a blast on the show where Akshay will make Kapil and Krushna drape a sari. TKSS team will also be seen grooving to number Burj Khalifa with Kiara and Akshay. On the show, Kapil will gift Akshay a note counting machine. On Saturday, Kapil will welcome cricketer Suresh Raina and his wife Priyanka Raina on the show.Enjoy your weekend!ALSO READ: Who is Caroline Brossard, Harish Salve's wife-to-be?ALSO READ: Kajal Aggarwal in new wedding pic is calm before the storm. Congrats, say fans\n",
      "\n",
      "The Election Commission has sounded the poll bugle in Bihar with the announcement of the 2020 Bihar assembly election. The Bihar assembly election come amid the Covid-19 pandemic and will be the largest election held globally during this time.The Election Commission has announced dates and the full schedule for the 2020 Bihar assembly election. The election will be held in three phases. The results of the 2020 Bihar assembly election will be announced on November 10.Announcing the Bihar polls schedule, Chief Election Commissioner Sunil Arora said, \"The world has changed significantly since the last major election in our country, which was held for Delhi assembly, and the Covid-19 pandemic has forced a new normal in every aspect of our life.\"\"Bihar assembly polls will be one of the biggest election globally to be held during prevailing Covid-19 situation,\" Arora added.Here is a comprehensive list of all Frequently Asked Questions (FAQs) on the 2020 Bihar assembly election:1. WHEN ARE THE BIHAR election?The Bihar election will occur in three phases over a period of 11 days. Voting for the first phase will take place on October 28 and will cover 71 assembly constituencies, while the second-phase voting will happen on November 3 and will cover 94 seats. The third phase of voting will be on November 7 and will cover 78 assembly seats.2. HOW MANY CONSTITUENCIES WILL PEOPLE VOTE ON?The election will take place in Bihar for the 243-seat state assembly.3. HOW MANY PEOPLE WILL VOTE IN THE BIHAR ELECTION?According to current estimates, around 7.29 crore people will vote in the 2020 Bihar election. Out of this, nearly 78 lakh will be first-time voters.4. WHEN ARE THE RESULTS OF THE BIHAR ELECTION GOING TO BE ANNOUNCED?The 2020 Bihar election results will be announced on November 10.READ | Bihar Assembly polls: Rebellion is the flavour of election season5. WHICH ARE THE MAIN ALLIANCES IN THE BIHAR ELECTION?At present, two major alliances are in the race for power in Bihar.NATIONAL DEMOCRATIC ALLIANCE (NDA)On one side is the ruling combine of the National Democratic Alliance (NDA) which includes Nitish Kumar's Janata Dal-United (115 seats), the Bharatiya Janata Party (110 seats), new entrant to the alliance Vikassheel Insaan Party (11 seats) and Jitan Ram Manjhi's Hindustani Awam Morcha (7 seats).Lok Janshakti Party, formed by late Union minister Ram Vilas Paswan was also a part of the NDA but recently announced it will be going solo, citing differences with the JDU. Current LJP leader Chirag Paswan has said that the LJP will form a government with the BJP in the state.CM face of the alliance: Nitish Kumar (JDU)MAHAGATHBANDHANOn the other hand, is the opposition's Mahagathbandhan (grand alliance) which mainly comprises of Lalu Prasad's Rashtriya Janata Dal (144 seats) and the Congress (70 seats). Other allies include the CPI-ML (19 seats), CPI (6 seats) and the CPIM (4 seats).The alliance was formed during the 2015 Bihar election and also contested the 2019 Lok Sabha election together. However, it lost several minor allies such as the VIP, HAM and JMM over the course of the past year.CM face of the alliance: Tejashwi Yadav (RJD)Other minor but significant alliances in the 2020 Bihar election include:GRAND DEMOCRATIC SECULAR FRONT (GDSF)Asaduddin Owaisi-led AIMIM joined hands with Upendra Kushwaha's Rashtriya Lok Samta Party to form the Grand Democratic Secular Front. Other members include Mayawati's Bahujan Samaj Party, former RJD MP Devendra Prasad Yadav’s Samajwadi Janata Dal (Democratic), former UP minister Om Prakash Rajbhar's Suheldev Bharatiya Samaj Party and the Janvadi Party Socialist. Prakash Ambedkar's Vanchit Bahujan Aghadi is also speculated to be a part of this alliance.CM face of the alliance: Upendra Kushwaha (RLSP)PROGRESSIVE DEMOCRATIC FRONT (PDF)Madhepura MP Pappu Yadav's Jan Adhikar Party and Chandrashekhar Azad's Azad Samaj Party have also formed an alliance to contest the 2020 Bihar election. They are being supported by the Social Democratic Party of India and the Bahujan Mukti Party.CM face of the alliance: Pappu YadavUNITED DEMOCRATIC ALLIANCECalling itself the anti-NDA front, the UDA consists of a front of 15 parties collectively led by the former Bharatiya Janata Party cabinet minister Yashwant Sinha and other transiently popular mass leaders. Some members of the alliance include former World Bank director Gulrej Hoda's Jan Sangharsh Dal Bhartiya Sablog Party, Janata Dal Rashtrawadi, Vanchit Samaj Party, Janata Party and LJP (Secular).Senior leaders like former MPs Arun Kumar, Ranjan Yadav, former ministers Nagmani, Renu Kushwaha besides Satyendra Sharma are associated with the UDA.The UDA has said it is in talks with the GDSF and the PDF to form a larger third front which can prove a significant vote cutter for others.CM face of the alliance: To be declared6. WHO ARE THE KEY FACES IN THE BIHAR ELECTION?READ | Bihar Assembly election: 5 fringe players who may impact poll outcome7. WHEN WERE THE LAST ELECTION HELD IN BIHAR? WHAT WERE THE RESULTS?The last assembly election was held in Bihar in 2015. During the 2015 Bihar assembly election, the Mahagathbandhan which brought JDU, RJD and the Congress together won with a majority of 178 seats. The NDA led by the BJP managed to secure 58 seats. Nitish Kumar became the chief minister of Bihar. However, in 2017, Chief Minister Nitish Kumar's JDU left the Mahagathbandhan and joined the NDA. While Nitish Kumar remained the chief minister, Sushil Kumar Modi from the BJP replaced Tejashwi Yadav as the deputy chief minister.8. HOW WILL COVID-19 IMPACT THE BIHAR ELECTION?Bihar is the first state where a major election is being held amid the Covid-19 pandemic. The Election Commission has issued guidelines and made arrangements for campaigning, nominations, polling and counting of votes to keep Covid-19 cases from spiralling in a state that has 7.29 crore registered voters.9. WHAT IS THE MODEL CODE OF CONDUCT?The Model Code of Conduct includes a list of guidelines used for regulating political parties and their activities just ahead of elections. The rules not only apply to political speeches, polling day, polling booths, portfolios, rallies, general conduct, contents of election manifestos and even their online social media activity.It comes into effect once the Election Commission announces any particular election. It checks the misuse of constitutional power granted to governments and other officials, government machinery or public funds for the purposes of poll campaigning.It also prevents political parties and candidates from using communal or religious bids to woo voters.Any form of bribing, intimidating or impersonation of voters is also barred under the MCC.The MCC mandates that 48 hours prior to polling in any area, all poll campaigning is brought to a stop. This 48-hour period is known as \"election silence\".10. WHAT ARE EVMS? An Electronic Voting Machine (EVM) is a machine that is used to cast and count votes; it has replaced the ballot paper. An EVM is designed with two units: Control unit and balloting unit. These units are joined together by a cable.The control unit of the EVM is kept with the polling officer.The name of candidates and/or symbols are available on the machine with a blue button next to it. The voter can press the button next to the candidate’s name they wish to vote for.11. WHAT ARE VVPATS?The voter-verifiable paper audit trail (VVPAT) is attached to EVM. As soon as a voter presses a button on the EVM, VVPAT prints the details on a paper slip. This slip contains the name of the candidate a voter has selected and the name of the party he cast a vote for. In short, it is a voter’s carbon copy.12. WHO IS ELIGIBLE TO VOTE IN THE 2020 BIHAR ELECTION?You can enrol as a voter if you:13. HOW TO CHECK IF I AM REGISTERED TO VOTE?Just having a voter ID is not enough for you to cast your vote. To cast your vote, you need to check if your name or voter ID is part of the voter list. Visit https://electoralsearch.in/ to see if you are registered to vote. If your name appears in the list, you are eligible to vote, otherwise, you need to register to vote.The voter list is continuously updated till the last date of filing of nominations by the candidate. This is approximately 3 weeks before the polling date so ensure you check the information in time.Follow the steps given below to check if your name is on the electoral rolls.Visit the National Voter Services Portal's (NVSP) Electoral Search page.Here you can search for your name on the voter list by two methods\"Alternately you can also visit voterportal.eci.gov.in or ceobihar.nic.in to check your name in the voter roll. You can also find your name by messaging ECI  to 1950 or downloading the Voter Helpline App.Apart from that, you can also check your details by calling at toll-free number 1800111950 or 1950.The electoral rolls are also available for viewing at your nearest BLO office.14. HOW CAN I REGISTER TO VOTE?In case you are a first-time voter or if your name is not in the electoral roll, you can register to vote online or offline.ONLINEOFFLINEYou can also enrol offline. Fill two copies of Form 6. This form is also available free of cost in offices of Electoral Registration Officers/Assistant Electoral Registration Officers and Booth Level Officers.The application accompanied by copies of the relevant documents can be filed in person before the concerned Electoral Registration Officer/Assistant Electoral Registration Officer or sent by post addressed to him or can be handed over to the Booth Level Officer of your polling area.Call 1950 for any help.15. HOW TO LOCATE YOUR ASSEMBLY CONSTITUENCY?Visit https://nvsp.in/Home/KnowBoothNofficers. Here you can find information about your polling booth, parliamentary and assembly constituency as well as contact details about your booth level officer.16. CAN I VOTE IF I AM COVID-19 POSITIVE?Covid-19 patients, those under quarantine and patients with Covid-like symptoms can vote, under the supervision of health authorities, at polling booths in their constituencies in the last hour of voting. They and voters over the age of 80 or persons with disabilities can also opt for postal ballot.Those willing to use the facility have to fill up Form 12D (you can also register by calling the Voter Helpline 1950 or contacting your nearest Booth Level Officer). Officials then carry the ballot to the residence of such voters and videograph the voting to ensure transparency.17. CAN I VOTE IN BIHAR ELECTION IF I LIVE AWAY FROM MY HOME TOWN?No. You can only vote in the Bihar election if you are an ordinary resident of a constituency in the state. If you are living in some other state, you will be seen as a resident of that state. The definition of ordinary resident comes from Section 20 of The Representation of the People Act, 1950.18. WHAT ARE THE STEPS TO VOTE IN THE 2020 BIHAR ELECTION?Once you are registered to vote here's what you do:1. Locate your polling booth by visiting voterportal.eci.gov.in/SMS ECIPS  to 1950 or use the Voter Helpline App.2. Carry any one of the approved 12 Identity Card documents and Voter slip* (given at booth/generated using Voter Helpline App) to the polling station.3. A physician will take your temperature at the polling booth. If the temperature is above set norms in two readings, then the elector will be given token/certificate to come and vote at last hour of the polling, adhering to Covid-19 preventive measures.4. Voters will be asked to stand in queue maintaining physical distance.5. Gloves will be provided to the voter.6. The first polling officer will check your name on the voter list and your ID proof. You will have to lower your face mask for identification.7. The second polling officer will mark your fingernail with indelible ink, give you a slip and take your signature.8. The third polling officer will take the slip and check the mark on your fingernail.9. You will then be asked to step into the EVM booth where a list of the candidates and their party symbol will be displayed on the EVM. You press the button for the candidate of your choice, following which a red light and beep will come on to indicate your vote has been registered.10. To double-check that the vote has gone to your desired candidate, check the slip that comes through in the VVPAT machine showing the name of the candidate and the party.11. After voting, you will have to dispose of the used glove in a dustbin and sanitize your hands before exiting the polling station. If asked to come in the last hour of polling, only one voter will be allowed inside the polling station and will have to wear a PPE kit. The officers in the booth will also be wearing PPE kits.19. WHAT ARE THE DOCUMENTS TO CARRY TO THE POLLING BOOTH?Apart from your voter slip, here is the list of 12 recognised photo IDs you can use for voting:\n",
      "\n"
     ]
    }
   ],
   "source": [
    "from bs4 import BeautifulSoup\n",
    "import requests\n",
    "\n",
    "res = requests.get('https://www.indiatoday.in/')\n",
    "soup = BeautifulSoup(res.text, 'lxml')\n",
    "\n",
    "news_box = soup.find('ul', {'class': 'itg-listing'})\n",
    "# all_news = news_box.find_all('a')\n",
    "# print(all_news)\n",
    "links = list()\n",
    "for a in news_box.find_all('a', href=True):\n",
    "    print( \"Found the URL:\", a['href'])\n",
    "    print()\n",
    "    links.append(a['href'])\n",
    "    \n",
    "# for news in all_news:\n",
    "#     print(news.text)\n",
    "#     print()\n",
    "\n",
    "all_news = list()\n",
    "for link in links:\n",
    "    res = requests.get('https://www.indiatoday.in' + link)\n",
    "    soup = BeautifulSoup(res.text, 'lxml')\n",
    "    news_box = soup.find('div', {'class': 'description'})\n",
    "    try :\n",
    "        news_description = news_box.find_all('p')\n",
    "        story = \"\"\n",
    "        for news in news_description:\n",
    "            story = story + news.text\n",
    "        all_news.append(story)\n",
    "    except AttributeError :\n",
    "        continue\n",
    "    \n",
    "for news in all_news:\n",
    "    print(news)\n",
    "    print()\n",
    "#     break    \n",
    "    \n",
    "    "
   ]
  },
  {
   "cell_type": "code",
   "execution_count": 76,
   "metadata": {},
   "outputs": [
    {
     "data": {
      "text/plain": [
       "array([0, 0, 0, 0, 0, 1, 1, 1, 0, 0, 0, 0, 0, 0, 0, 1, 0], dtype=int64)"
      ]
     },
     "execution_count": 76,
     "metadata": {},
     "output_type": "execute_result"
    }
   ],
   "source": [
    "news1 = np.array(all_news)\n",
    "news1 = cv.transform(news1)\n",
    "# nv.predict(news1)"
   ]
  },
  {
   "cell_type": "code",
   "execution_count": 77,
   "metadata": {},
   "outputs": [
    {
     "data": {
      "text/plain": [
       "array([0, 0, 0, 0, 1, 1, 1, 1, 0, 0, 0, 0, 0, 0, 0, 1, 0], dtype=int64)"
      ]
     },
     "execution_count": 77,
     "metadata": {},
     "output_type": "execute_result"
    }
   ],
   "source": [
    "logreg.predict(news1)"
   ]
  },
  {
   "cell_type": "code",
   "execution_count": null,
   "metadata": {},
   "outputs": [],
   "source": [
    "#for india today out of 17, positive news are 5 and 12 are negatives."
   ]
  },
  {
   "cell_type": "markdown",
   "metadata": {},
   "source": [
    "second channel : times of india"
   ]
  },
  {
   "cell_type": "code",
   "execution_count": 78,
   "metadata": {},
   "outputs": [
    {
     "name": "stdout",
     "output_type": "stream",
     "text": [
      "Found the URL: /india/covid-vaccination-drive-may-span-over-a-year-group-wise/articleshow/78961827.cms\n",
      "\n",
      "Found the URL: /elections/assembly-elections/bihar/ec-gives-clean-chit-to-bjps-free-vaccine-promise-in-bihar-says-no-violation-of-model-code/articleshow/78966753.cms\n",
      "\n",
      "Found the URL: /india/pulwama-terror-attack-truth-revealed-after-claims-in-pakistan-parliament-pm-modi/articleshow/78964354.cms\n",
      "\n",
      "Found the URL: /india/pulwama-terror-attack-truth-revealed-after-claims-in-pakistan-parliament-pm-modi/articleshow/78964354.cms\n",
      "\n",
      "Found the URL: /sports/cricket/ipl/top-stories/dc-vs-mi-live-score-updates-ipl-2020/articleshow/78966805.cms\n",
      "\n",
      "Found the URL: /world/europe/third-person-under-arrest-france-in-connection-with-nice-attack/articleshow/78967208.cms\n",
      "\n",
      "Found the URL: /world/us/us-presidential-elections/why-trump-will-almost-certainly-declare-himself-a-winner-on-nov-3/articleshow/78964344.cms\n",
      "\n",
      "Found the URL: /world/us/us-presidential-elections/why-trump-will-almost-certainly-declare-himself-a-winner-on-nov-3/articleshow/78964344.cms\n",
      "\n",
      "Found the URL: /india/coronavirus-in-india-live-updates-fresh-cases/liveblog/78943230.cms\n",
      "\n",
      "NEW DELHI: In an advisory to states on setting up coordination committees for distribution of the Covid-19 vaccine, the health ministry has said introduction of the shots will span over a year with multiple groups being included sequentially, starting from health care workers, while also asking governments to be vigilant about disinformation on social media. âIn all likelihood, the Covid-19 vaccine introduction will span over a year with multiple groups being included sequentially starting from healthcare workers (HCWs). Therefore, it is important to create strong advisory and coordination mechanism at state and district levels to guide the process of Covid-19 vaccine introduction while ensuring minimal disruption of other routine health care services including immunisation,â the Centre has said. More on Covid-19 Coronavirus pandemic: Complete Coverage It's time to mask up and stay safe: Join TOI's #MaskIndia campaign MHA's guidelines for home isolation Trust the newspaper for your daily verified news The government has also stressed early tracking of social media to dispel rumours which could impact community acceptance of coronavirus inoculation. âIt is anticipated that initially the supply of vaccine will be limited in view of huge demand hence, prioritisation of socio-demographic groups will be done for vaccination and subsequently other groups will be included for vaccination,â the ministry said. Vaccine may be ready for use as early as December: Adar PoonawallaIn the letter, health secretary Rajesh Bhushan has suggested setting up of a state steering committee (SSC) chaired by the chief secretary, a state task force (STF) led by additional chief secretary or principal secretary (health), and a district task force (DTF) to be headed by the district magistrate. This committee will also review the stateâs preparatory activities in terms of cold chain preparedness, operational and communication planning, strategies for anticipated state-specific challenges in terms of geographical terrain and network connectivity in âhard to reachâ areas. \n",
      "\n",
      "NEW DELHI: The Election Commission has held that the BJP's manifesto promise of providing free vaccine in Bihar does not violate any provision of the model code of conduct. In its formal response to a private citizen's complaint alleging violation of the poll code by BJP through misuse of Central government machinery, the poll panel gave a clean chit to the free vaccine offer on all three criteria laid down in Part VIII of the model code to regulate party manifestos. The first of the three criteria states that the election manifesto shall not contain anything repugnant to the ideals and principles enshrined in the Constitution and further that it shall be consistent with the letter and spirit of other provisions of the model code of conduct. The second provision states that the Directive Principles of State policy enshrined in the Constitution enjoin upon the State to frame various welfare measures for the citizens and therefore there can be no objection to the promise of such welfare in election manifesto. However, political parties should avoid making those promises which are likely to vitiate the purity of the election process or exert undue influence on the voters in exercising their franchise, it adds. More on Bihar polls Complete coverage Nitish Meter Data Hub This will make you cry for Bihar all over again ... 30 years of 25 CMs or 30 years of 3 CMs: Bihar keeps getting poorer The third criteria in Para VIII of the model code of conduct for the guidance of political parties says that \"in the interest of transparency, level playing field and credibility of promises, it's expected that manifesto also reflect the rationale for the promises and broadly indicate the ways and means to meet the financial requirement for it....Trust of voters should be sought only on those promises which are possible to be fulfilled\". Stating that election manifestos are issued by political parties/candidates in respect of the particular election, the EC -- in its response sent on October 28 to the complaint received from RTI activitist Saket Gokhale -- held that \"no violation of any of the provisions of model code of conduct has been observed in the instant matter\". Interestingly, the EC had during the Lok Sabha polls last year, given a clean chit to the Congress's 'Nyay' scheme announced as part of its manifesto, on the very same criteria. The announcement of free vaccine to the people of Bihar by finance minister Nirmala Sitharaman at the October 22 press conference to release BJP manifesto had invoked the ire of the opposition parties, which alleged that the BJP was politicising the pandemic to make electoral gains. Former Congress president Rahul Gandhi had then tweeted: \"GOI (government of India) just announced India's Covid access strategy. Kindly refer to the state-wise election schedule to know when will you get it, along with a hoard of false promises\". RJD MP in Rajya Sabha Manoj Jha too expressed shock, saying that promising a vaccine for a pandemic in a welfare state as part of an election manifesto \"shows the level of deterioration in their (BJP's) thinking\". \n",
      "\n",
      "NEW DELHI: Prime Minister Narendra Modi on Saturday said that the truth behind last year's Pulwama terror attack has been revealed after confession of a Pakistani minister in Parliament and slammed the opposition for raising questions in the aftermath of it. In a sensational admission, senior Pakistani minister Fawad Chaudhry Thursday admitted that his country was responsible for the Pulwama terrorist attack in Jammu and Kashmir in 2019 that killed 40 CRPF personnel and brought the two countries to the brink of a war. Modi, who was speaking on the occasion of Sardar Vallabhbhai Patel's birth anniversary, in Gujarat, said that the Pulwama attack was used by a few to promote their own selfish political interests and that the truth of the incident revealed in the Pakistan parliament has exposed them. Though the PM did not specifically name Pakistan and only said that 'claims made in Parliament of a neighbouring country' but the reference was obvious. \"The country can never forget that some people were not saddened at the sacrifice of the security personnel during the Pulwama attack. At that time, these people were only doing politics. I request them not to do such politics in the interest of the nation,\" the PM said addressing a gathering after visiting the Statue of Unity in Gujarat. On February 14, 2019, 40 Central Reserve Police Force personnel were killed when a jeep laden with explosives had hit a convoy of vehicles carrying security personnel on the Jammu-Srinagar highway at Lethpora in Pulwama. Opposition should now apologise for Pulwama remarks: BJPThe Prime Minister further stressed on the need for all countries to unite against terrorism, during his speech. He also said that our country and the world continued to face a challenge from those who backed terrorism. PM's strong remarks came, in the backdrop of a terror attack, nearly a week after an incident of beheading of a teacher in France. PM Modi also spoke on the Kashmir issue in Gujarat. \"Today, Kashmir has moved on a new path of development. Whether it is restoration of peace in the Northeast, or the steps being taken for development there, today the country is establishing new dimensions of unity\", the PM said. Pak minister admits country's role in Pulwama terrorist attack \"Humne Hindustan ko ghus ke maara (We hit India in their home). Our success in Pulwama, is a success of this nation under the leadership of Imran Khan. You and we are all part of that success,\" science & technology Minister Fawad Chaudhry said in the National Assembly during a debate. Pak minister's admission revealed truth of Pulwama attack, silenced govt critics: Rajnath SinghWhen some of his fellow lawmakers objected to his mention of \"success in Pulwama\", the minister said that \"after the Pulwama incident, the way Pakistan went inside the Indian territory to target it, the entire media in India was ashamed of it.\" However, he didn't retract his statement about \"success in Pulwama\" under Prime Minister Khan's leadership. (With inputs from agencies) \n",
      "\n"
     ]
    },
    {
     "name": "stdout",
     "output_type": "stream",
     "text": [
      "NEW DELHI: Prime Minister Narendra Modi on Saturday said that the truth behind last year's Pulwama terror attack has been revealed after confession of a Pakistani minister in Parliament and slammed the opposition for raising questions in the aftermath of it. In a sensational admission, senior Pakistani minister Fawad Chaudhry Thursday admitted that his country was responsible for the Pulwama terrorist attack in Jammu and Kashmir in 2019 that killed 40 CRPF personnel and brought the two countries to the brink of a war. Modi, who was speaking on the occasion of Sardar Vallabhbhai Patel's birth anniversary, in Gujarat, said that the Pulwama attack was used by a few to promote their own selfish political interests and that the truth of the incident revealed in the Pakistan parliament has exposed them. Though the PM did not specifically name Pakistan and only said that 'claims made in Parliament of a neighbouring country' but the reference was obvious. \"The country can never forget that some people were not saddened at the sacrifice of the security personnel during the Pulwama attack. At that time, these people were only doing politics. I request them not to do such politics in the interest of the nation,\" the PM said addressing a gathering after visiting the Statue of Unity in Gujarat. On February 14, 2019, 40 Central Reserve Police Force personnel were killed when a jeep laden with explosives had hit a convoy of vehicles carrying security personnel on the Jammu-Srinagar highway at Lethpora in Pulwama. Opposition should now apologise for Pulwama remarks: BJPThe Prime Minister further stressed on the need for all countries to unite against terrorism, during his speech. He also said that our country and the world continued to face a challenge from those who backed terrorism. PM's strong remarks came, in the backdrop of a terror attack, nearly a week after an incident of beheading of a teacher in France. PM Modi also spoke on the Kashmir issue in Gujarat. \"Today, Kashmir has moved on a new path of development. Whether it is restoration of peace in the Northeast, or the steps being taken for development there, today the country is establishing new dimensions of unity\", the PM said. Pak minister admits country's role in Pulwama terrorist attack \"Humne Hindustan ko ghus ke maara (We hit India in their home). Our success in Pulwama, is a success of this nation under the leadership of Imran Khan. You and we are all part of that success,\" science & technology Minister Fawad Chaudhry said in the National Assembly during a debate. Pak minister's admission revealed truth of Pulwama attack, silenced govt critics: Rajnath SinghWhen some of his fellow lawmakers objected to his mention of \"success in Pulwama\", the minister said that \"after the Pulwama incident, the way Pakistan went inside the Indian territory to target it, the entire media in India was ashamed of it.\" However, he didn't retract his statement about \"success in Pulwama\" under Prime Minister Khan's leadership. (With inputs from agencies) \n",
      "\n",
      "LIVE BLOGPLAYING XIs:Delhi Capitals: Prithvi Shaw, Shikhar Dhawan, Shreyas Iyer (captain), Rishabh Pant (wk), Shimron Hetmyer, Marcus Stoinis, Harshal Patel, Kagiso Rabada, Ravichandran Ashwin, Praveen Dubey, Anrich Nortje Mumbai Indians: Quinton de Kock (wk), Ishan Kishan, Suryakumar Yadav, Saurabh Tiwary, Krunal Pandya, Kieron Pollard (captain), Nathan Coulter-Nile, Rahul Chahar, Jayant Yadav, Trent Boult, Jasprit Bumrah CAPTAINS' TAKE:Shreyas Iyer (Delhi Capitals): We wanted to bat first as well. Previous results tell it's better to bat first. Batting hasn't been up to the mark, hopefully, it will do well today. Three changes for us - Praveen Dubey makes his IPL debut. Prithvi Shaw and Harshal Patel are back. We are motivated to do well as a team, want to finish on a good noteKieron Pollard (Mumbai Indians)We will field first. Not sure what this pitch will do, it's better to chase down the target. Two changes for us - Hardik is resting today and Pattinson misses out. We have been playing well with everyone chipping in, hopefully, it will continue. We need to go hard till the end, not want to get complacent.TOSS: Mumbai Indians win toss, opt to field against Delhi Capitals.It's TOSS time, folks. Both the captains - Kieron Pollard (MI) and Shreyas Iyer (DC) - are in the middle.Hello and welcome to the Live coverage of the IPL 2020 match between Delhi Capitals and Mumbai Indians. PREVIEW:Their play-off berth secured, defending champions Mumbai Indians would look to add to the woes of Delhi Capitals, who are on a three-match losing streak, and consolidate their position at the top when the two teams face each other in their penultimate IPL league game. Chennai Super Kings six-wicket win over Kolkata Knight Riders on Thursday sealed MI's play-off berth. The defending champions are currently on 16 points and with an excellent net run rate (NRR), are almost certain to finish in the top two. Despite three defeats on the trot against Kings XI Punjab, KKR and Sunrisers Hyderabad, DC are placed third with 14 points from 12 games, courtesy their consistent run in the first phase of the league. The three defeats should come as an eye opener for DC as they can ill-afford to take things lightly and need at least a win to seal their play-off place. But it won't be an easy task as their last two games are against the top two teams on the table -- MI and Royal Challengers Bangalore. If DC lose their last two games, it is entirely possible that KXIP will go past them on NRR even if they finish on 14 points and in such a case, the Delhi side could be eliminated if other teams on 14 have a higher NRR. Going by paper, MI definitely have a clear-cut edge over DC and having confirmed their last four berth, the title holders would be playing without any pressure. Regular skipper Rohit Sharma, who missed the last three games due to a left-leg hamstring injury, is unlikely to take the field again on Saturday, but there is no substantial word from the MI management in this regard yet. While MI had roared back to form after thrashing RCB by five-wickets in the last game, there are problems aplenty for DC. MI are unlikely to tinker with the playing XI, with their top-order firing on all cylinders. Quinton De Kock would be hoping to continue his sublime form despite a rare failure against RCB and so would Ishan Kishan, who has been a revelation. Suryakumar Yadav, who was ignored for India's tour of Australia despite his scintillating form this season, made a statement with a match-winning 79 against RCB the other day. He along with De Kock and Kishan can take any attack to cleaners. Saurabh Tiwary though needs to convert his starts into big scores, while Hardik Pandya, stand-in captain Kieron Pollard and Krunal Pandya are known for their six-hitting prowess. MI bowlers made a spectacular comeback against RCB after the hammering they received against Rajasthan Royals. Jasprit Bumrah (20 wickets) and Trent Boult (17 wickets) have been lethal both upfront and at the death, while James Pattinson (11 wickets) and spin duo of Rahul Chahar (14 wickets) and Krunal (5 wickets) has provided great support in the middle overs. DC, on the other hand, need to pull up their socks quickly after a hat-trick of defeats. Their batsmen crumbled under pressure against SRH in their last game and were bundled out for 131 while chasing an imposing 220-run target. Shikhar Dhawan(471 runs) has been in blazing form for DC, with two centuries but needs support from the likes of Ajinkya Rahane, who has replaced Prithvi Shaw, skipper Shreyas Iyer, Rishabh Pant, Shimron Hetmyer and Marcus Stoinis. The South African pace duo of Kagiso Rabada (23 wickets) and Anrich Nortje (15) have been exceptional for DC, barring an off day for the latter against SRH. Tushar Deshpande and Ravichandran Ashwin have been erratic off late and need to come good. Teams (from): Mumbai Indians: Rohit Sharma (C), Aditya Tare, Anmolpreet Singh, Anukul Roy, Chris Lynn, Dhawal Kulkarni, Digvijay Deshmukh, Hardik Pandya, Ishan Kishan, James Pattison, Jasprit Bumrah, Jayant Yadav, Kieron Pollard, Krunal Pandya, Mitchell McClenaghan, Mohsin Khan, Nathan Coulter-Nile, Prince Balwant Rai, Quinton De Kock, Rahul Chahar, Saurabh Tiwary, Sherfane Rutherford, Suryakumar Yadav, Trent Boult. Delhi Capitals: Delhi Capitals: Shreyas Iyer (C), Kagiso Rabada, Marcus Stoinis, Sandeep Lamichhane, Ajinkya Rahane, Ravichandran Ashwin, Shikhar Dhawan, Shimron Hetmyer, Alex Carey, Mohit Sharma, Prithvi Shaw, Lalit Yadav, Avesh Khan, Axar Patel, Tushar Deshpande, Rishabh Pant, Harshal Patel, Keemo Paul, Pravin Dubey, Anrich Nortje, Daniel Sams. \n",
      "\n"
     ]
    },
    {
     "name": "stdout",
     "output_type": "stream",
     "text": [
      "PARIS: A third person was taken into custody in France in connection with the knife attack which left three dead in Nice on Thursday, a police source said on Saturday. The arrest took place on Friday, the source added. An attacker beheaded a woman and killed two other people in a church in the city of Nice on Thursday in the second deadly knife attack in France in two weeks. A man was shot by police and is now in critical condition in a hospital. France's chief anti-terrorism prosecutor has said the man suspected of carrying out the Nice attack was a Tunisian born in 1999 who had arrived in Europe on Sept. 20 in Lampedusa, the Italian island off Tunisia. On Thursday evening a 47-year-old man was taken into custody on suspicion of having been in contact with the perpetrator of the attack, a judicial source said at the time. On Friday, a 35-year old man, who is a Nice resident, and who is suspected of having met with the assailant the day before the attack, was also taken into custody, a judicial source confirmed. The third arrest followed immediately afterwards, the police source said. \n",
      "\n",
      "NEW DELHI: In an advisory to states on setting up coordination committees for distribution of the Covid-19 vaccine, the health ministry has said introduction of the shots will span over a year with multiple groups being included sequentially, starting from health care workers, while also asking governments to be vigilant about disinformation on social media. âIn all likelihood, the Covid-19 vaccine introduction will span over a year with multiple groups being included sequentially starting from healthcare workers (HCWs). Therefore, it is important to create strong advisory and coordination mechanism at state and district levels to guide the process of Covid-19 vaccine introduction while ensuring minimal disruption of other routine health care services including immunisation,â the Centre has said. More on Covid-19 Coronavirus pandemic: Complete Coverage It's time to mask up and stay safe: Join TOI's #MaskIndia campaign MHA's guidelines for home isolation Trust the newspaper for your daily verified news The government has also stressed early tracking of social media to dispel rumours which could impact community acceptance of coronavirus inoculation. âIt is anticipated that initially the supply of vaccine will be limited in view of huge demand hence, prioritisation of socio-demographic groups will be done for vaccination and subsequently other groups will be included for vaccination,â the ministry said. Vaccine may be ready for use as early as December: Adar PoonawallaIn the letter, health secretary Rajesh Bhushan has suggested setting up of a state steering committee (SSC) chaired by the chief secretary, a state task force (STF) led by additional chief secretary or principal secretary (health), and a district task force (DTF) to be headed by the district magistrate. This committee will also review the stateâs preparatory activities in terms of cold chain preparedness, operational and communication planning, strategies for anticipated state-specific challenges in terms of geographical terrain and network connectivity in âhard to reachâ areas. \n",
      "\n",
      "NEW DELHI: The Election Commission has held that the BJP's manifesto promise of providing free vaccine in Bihar does not violate any provision of the model code of conduct. In its formal response to a private citizen's complaint alleging violation of the poll code by BJP through misuse of Central government machinery, the poll panel gave a clean chit to the free vaccine offer on all three criteria laid down in Part VIII of the model code to regulate party manifestos. The first of the three criteria states that the election manifesto shall not contain anything repugnant to the ideals and principles enshrined in the Constitution and further that it shall be consistent with the letter and spirit of other provisions of the model code of conduct. The second provision states that the Directive Principles of State policy enshrined in the Constitution enjoin upon the State to frame various welfare measures for the citizens and therefore there can be no objection to the promise of such welfare in election manifesto. However, political parties should avoid making those promises which are likely to vitiate the purity of the election process or exert undue influence on the voters in exercising their franchise, it adds. More on Bihar polls Complete coverage Nitish Meter Data Hub This will make you cry for Bihar all over again ... 30 years of 25 CMs or 30 years of 3 CMs: Bihar keeps getting poorer The third criteria in Para VIII of the model code of conduct for the guidance of political parties says that \"in the interest of transparency, level playing field and credibility of promises, it's expected that manifesto also reflect the rationale for the promises and broadly indicate the ways and means to meet the financial requirement for it....Trust of voters should be sought only on those promises which are possible to be fulfilled\". Stating that election manifestos are issued by political parties/candidates in respect of the particular election, the EC -- in its response sent on October 28 to the complaint received from RTI activitist Saket Gokhale -- held that \"no violation of any of the provisions of model code of conduct has been observed in the instant matter\". Interestingly, the EC had during the Lok Sabha polls last year, given a clean chit to the Congress's 'Nyay' scheme announced as part of its manifesto, on the very same criteria. The announcement of free vaccine to the people of Bihar by finance minister Nirmala Sitharaman at the October 22 press conference to release BJP manifesto had invoked the ire of the opposition parties, which alleged that the BJP was politicising the pandemic to make electoral gains. Former Congress president Rahul Gandhi had then tweeted: \"GOI (government of India) just announced India's Covid access strategy. Kindly refer to the state-wise election schedule to know when will you get it, along with a hoard of false promises\". RJD MP in Rajya Sabha Manoj Jha too expressed shock, saying that promising a vaccine for a pandemic in a welfare state as part of an election manifesto \"shows the level of deterioration in their (BJP's) thinking\". \n",
      "\n",
      "NEW DELHI: Prime Minister Narendra Modi on Saturday said that the truth behind last year's Pulwama terror attack has been revealed after confession of a Pakistani minister in Parliament and slammed the opposition for raising questions in the aftermath of it. In a sensational admission, senior Pakistani minister Fawad Chaudhry Thursday admitted that his country was responsible for the Pulwama terrorist attack in Jammu and Kashmir in 2019 that killed 40 CRPF personnel and brought the two countries to the brink of a war. Modi, who was speaking on the occasion of Sardar Vallabhbhai Patel's birth anniversary, in Gujarat, said that the Pulwama attack was used by a few to promote their own selfish political interests and that the truth of the incident revealed in the Pakistan parliament has exposed them. Though the PM did not specifically name Pakistan and only said that 'claims made in Parliament of a neighbouring country' but the reference was obvious. \"The country can never forget that some people were not saddened at the sacrifice of the security personnel during the Pulwama attack. At that time, these people were only doing politics. I request them not to do such politics in the interest of the nation,\" the PM said addressing a gathering after visiting the Statue of Unity in Gujarat. On February 14, 2019, 40 Central Reserve Police Force personnel were killed when a jeep laden with explosives had hit a convoy of vehicles carrying security personnel on the Jammu-Srinagar highway at Lethpora in Pulwama. Opposition should now apologise for Pulwama remarks: BJPThe Prime Minister further stressed on the need for all countries to unite against terrorism, during his speech. He also said that our country and the world continued to face a challenge from those who backed terrorism. PM's strong remarks came, in the backdrop of a terror attack, nearly a week after an incident of beheading of a teacher in France. PM Modi also spoke on the Kashmir issue in Gujarat. \"Today, Kashmir has moved on a new path of development. Whether it is restoration of peace in the Northeast, or the steps being taken for development there, today the country is establishing new dimensions of unity\", the PM said. Pak minister admits country's role in Pulwama terrorist attack \"Humne Hindustan ko ghus ke maara (We hit India in their home). Our success in Pulwama, is a success of this nation under the leadership of Imran Khan. You and we are all part of that success,\" science & technology Minister Fawad Chaudhry said in the National Assembly during a debate. Pak minister's admission revealed truth of Pulwama attack, silenced govt critics: Rajnath SinghWhen some of his fellow lawmakers objected to his mention of \"success in Pulwama\", the minister said that \"after the Pulwama incident, the way Pakistan went inside the Indian territory to target it, the entire media in India was ashamed of it.\" However, he didn't retract his statement about \"success in Pulwama\" under Prime Minister Khan's leadership. (With inputs from agencies) \n",
      "\n",
      "NEW DELHI: Prime Minister Narendra Modi on Saturday said that the truth behind last year's Pulwama terror attack has been revealed after confession of a Pakistani minister in Parliament and slammed the opposition for raising questions in the aftermath of it. In a sensational admission, senior Pakistani minister Fawad Chaudhry Thursday admitted that his country was responsible for the Pulwama terrorist attack in Jammu and Kashmir in 2019 that killed 40 CRPF personnel and brought the two countries to the brink of a war. Modi, who was speaking on the occasion of Sardar Vallabhbhai Patel's birth anniversary, in Gujarat, said that the Pulwama attack was used by a few to promote their own selfish political interests and that the truth of the incident revealed in the Pakistan parliament has exposed them. Though the PM did not specifically name Pakistan and only said that 'claims made in Parliament of a neighbouring country' but the reference was obvious. \"The country can never forget that some people were not saddened at the sacrifice of the security personnel during the Pulwama attack. At that time, these people were only doing politics. I request them not to do such politics in the interest of the nation,\" the PM said addressing a gathering after visiting the Statue of Unity in Gujarat. On February 14, 2019, 40 Central Reserve Police Force personnel were killed when a jeep laden with explosives had hit a convoy of vehicles carrying security personnel on the Jammu-Srinagar highway at Lethpora in Pulwama. Opposition should now apologise for Pulwama remarks: BJPThe Prime Minister further stressed on the need for all countries to unite against terrorism, during his speech. He also said that our country and the world continued to face a challenge from those who backed terrorism. PM's strong remarks came, in the backdrop of a terror attack, nearly a week after an incident of beheading of a teacher in France. PM Modi also spoke on the Kashmir issue in Gujarat. \"Today, Kashmir has moved on a new path of development. Whether it is restoration of peace in the Northeast, or the steps being taken for development there, today the country is establishing new dimensions of unity\", the PM said. Pak minister admits country's role in Pulwama terrorist attack \"Humne Hindustan ko ghus ke maara (We hit India in their home). Our success in Pulwama, is a success of this nation under the leadership of Imran Khan. You and we are all part of that success,\" science & technology Minister Fawad Chaudhry said in the National Assembly during a debate. Pak minister's admission revealed truth of Pulwama attack, silenced govt critics: Rajnath SinghWhen some of his fellow lawmakers objected to his mention of \"success in Pulwama\", the minister said that \"after the Pulwama incident, the way Pakistan went inside the Indian territory to target it, the entire media in India was ashamed of it.\" However, he didn't retract his statement about \"success in Pulwama\" under Prime Minister Khan's leadership. (With inputs from agencies) \n",
      "\n",
      "LIVE BLOGPLAYING XIs:Delhi Capitals: Prithvi Shaw, Shikhar Dhawan, Shreyas Iyer (captain), Rishabh Pant (wk), Shimron Hetmyer, Marcus Stoinis, Harshal Patel, Kagiso Rabada, Ravichandran Ashwin, Praveen Dubey, Anrich Nortje Mumbai Indians: Quinton de Kock (wk), Ishan Kishan, Suryakumar Yadav, Saurabh Tiwary, Krunal Pandya, Kieron Pollard (captain), Nathan Coulter-Nile, Rahul Chahar, Jayant Yadav, Trent Boult, Jasprit Bumrah CAPTAINS' TAKE:Shreyas Iyer (Delhi Capitals): We wanted to bat first as well. Previous results tell it's better to bat first. Batting hasn't been up to the mark, hopefully, it will do well today. Three changes for us - Praveen Dubey makes his IPL debut. Prithvi Shaw and Harshal Patel are back. We are motivated to do well as a team, want to finish on a good noteKieron Pollard (Mumbai Indians)We will field first. Not sure what this pitch will do, it's better to chase down the target. Two changes for us - Hardik is resting today and Pattinson misses out. We have been playing well with everyone chipping in, hopefully, it will continue. We need to go hard till the end, not want to get complacent.TOSS: Mumbai Indians win toss, opt to field against Delhi Capitals.It's TOSS time, folks. Both the captains - Kieron Pollard (MI) and Shreyas Iyer (DC) - are in the middle.Hello and welcome to the Live coverage of the IPL 2020 match between Delhi Capitals and Mumbai Indians. PREVIEW:Their play-off berth secured, defending champions Mumbai Indians would look to add to the woes of Delhi Capitals, who are on a three-match losing streak, and consolidate their position at the top when the two teams face each other in their penultimate IPL league game. Chennai Super Kings six-wicket win over Kolkata Knight Riders on Thursday sealed MI's play-off berth. The defending champions are currently on 16 points and with an excellent net run rate (NRR), are almost certain to finish in the top two. Despite three defeats on the trot against Kings XI Punjab, KKR and Sunrisers Hyderabad, DC are placed third with 14 points from 12 games, courtesy their consistent run in the first phase of the league. The three defeats should come as an eye opener for DC as they can ill-afford to take things lightly and need at least a win to seal their play-off place. But it won't be an easy task as their last two games are against the top two teams on the table -- MI and Royal Challengers Bangalore. If DC lose their last two games, it is entirely possible that KXIP will go past them on NRR even if they finish on 14 points and in such a case, the Delhi side could be eliminated if other teams on 14 have a higher NRR. Going by paper, MI definitely have a clear-cut edge over DC and having confirmed their last four berth, the title holders would be playing without any pressure. Regular skipper Rohit Sharma, who missed the last three games due to a left-leg hamstring injury, is unlikely to take the field again on Saturday, but there is no substantial word from the MI management in this regard yet. While MI had roared back to form after thrashing RCB by five-wickets in the last game, there are problems aplenty for DC. MI are unlikely to tinker with the playing XI, with their top-order firing on all cylinders. Quinton De Kock would be hoping to continue his sublime form despite a rare failure against RCB and so would Ishan Kishan, who has been a revelation. Suryakumar Yadav, who was ignored for India's tour of Australia despite his scintillating form this season, made a statement with a match-winning 79 against RCB the other day. He along with De Kock and Kishan can take any attack to cleaners. Saurabh Tiwary though needs to convert his starts into big scores, while Hardik Pandya, stand-in captain Kieron Pollard and Krunal Pandya are known for their six-hitting prowess. MI bowlers made a spectacular comeback against RCB after the hammering they received against Rajasthan Royals. Jasprit Bumrah (20 wickets) and Trent Boult (17 wickets) have been lethal both upfront and at the death, while James Pattinson (11 wickets) and spin duo of Rahul Chahar (14 wickets) and Krunal (5 wickets) has provided great support in the middle overs. DC, on the other hand, need to pull up their socks quickly after a hat-trick of defeats. Their batsmen crumbled under pressure against SRH in their last game and were bundled out for 131 while chasing an imposing 220-run target. Shikhar Dhawan(471 runs) has been in blazing form for DC, with two centuries but needs support from the likes of Ajinkya Rahane, who has replaced Prithvi Shaw, skipper Shreyas Iyer, Rishabh Pant, Shimron Hetmyer and Marcus Stoinis. The South African pace duo of Kagiso Rabada (23 wickets) and Anrich Nortje (15) have been exceptional for DC, barring an off day for the latter against SRH. Tushar Deshpande and Ravichandran Ashwin have been erratic off late and need to come good. Teams (from): Mumbai Indians: Rohit Sharma (C), Aditya Tare, Anmolpreet Singh, Anukul Roy, Chris Lynn, Dhawal Kulkarni, Digvijay Deshmukh, Hardik Pandya, Ishan Kishan, James Pattison, Jasprit Bumrah, Jayant Yadav, Kieron Pollard, Krunal Pandya, Mitchell McClenaghan, Mohsin Khan, Nathan Coulter-Nile, Prince Balwant Rai, Quinton De Kock, Rahul Chahar, Saurabh Tiwary, Sherfane Rutherford, Suryakumar Yadav, Trent Boult. Delhi Capitals: Delhi Capitals: Shreyas Iyer (C), Kagiso Rabada, Marcus Stoinis, Sandeep Lamichhane, Ajinkya Rahane, Ravichandran Ashwin, Shikhar Dhawan, Shimron Hetmyer, Alex Carey, Mohit Sharma, Prithvi Shaw, Lalit Yadav, Avesh Khan, Axar Patel, Tushar Deshpande, Rishabh Pant, Harshal Patel, Keemo Paul, Pravin Dubey, Anrich Nortje, Daniel Sams. \n",
      "\n",
      "PARIS: A third person was taken into custody in France in connection with the knife attack which left three dead in Nice on Thursday, a police source said on Saturday. The arrest took place on Friday, the source added. An attacker beheaded a woman and killed two other people in a church in the city of Nice on Thursday in the second deadly knife attack in France in two weeks. A man was shot by police and is now in critical condition in a hospital. France's chief anti-terrorism prosecutor has said the man suspected of carrying out the Nice attack was a Tunisian born in 1999 who had arrived in Europe on Sept. 20 in Lampedusa, the Italian island off Tunisia. On Thursday evening a 47-year-old man was taken into custody on suspicion of having been in contact with the perpetrator of the attack, a judicial source said at the time. On Friday, a 35-year old man, who is a Nice resident, and who is suspected of having met with the assailant the day before the attack, was also taken into custody, a judicial source confirmed. The third arrest followed immediately afterwards, the police source said. \n",
      "\n"
     ]
    }
   ],
   "source": [
    "res = requests.get('https://timesofindia.indiatimes.com/')\n",
    "soup = BeautifulSoup(res.text, 'lxml')\n",
    "\n",
    "news_box = soup.find('ul', {'class': 'list8'})\n",
    "# all_news = news_box.find_all('a')\n",
    "# print(all_news)\n",
    "links = list()\n",
    "for a in news_box.find_all('a', href=True):\n",
    "    print( \"Found the URL:\", a['href'])\n",
    "    print()\n",
    "    links.append(a['href'])\n",
    "    \n",
    "# for news in all_news:\n",
    "#     print(news.text)\n",
    "#     print()\n",
    "\n",
    "all_news = list()\n",
    "for link in links:\n",
    "    res = requests.get('https://timesofindia.indiatimes.com/' + link)\n",
    "    soup = BeautifulSoup(res.text, 'lxml')\n",
    "    news_box = soup.find('div', {'class': 'ga-headlines'})\n",
    "    try:\n",
    "        print(news_box.text)\n",
    "        print()\n",
    "        all_news.append(news_box.text)\n",
    "    except AttributeError:\n",
    "        continue\n",
    "#     news_description = news_box.find_all('p')\n",
    "#     story = \"\"\n",
    "#     for news in news_description:\n",
    "#         story = story + news.text\n",
    "#     all_news.append(story)\n",
    "    \n",
    "    \n",
    "for news in all_news:\n",
    "    print(news)\n",
    "    print()\n",
    "#     break    \n",
    "    "
   ]
  },
  {
   "cell_type": "code",
   "execution_count": 79,
   "metadata": {},
   "outputs": [
    {
     "data": {
      "text/plain": [
       "array([1, 0, 0, 0, 0, 0], dtype=int64)"
      ]
     },
     "execution_count": 79,
     "metadata": {},
     "output_type": "execute_result"
    }
   ],
   "source": [
    "news2 = np.array(all_news)\n",
    "news2 = cv.transform(news2)\n",
    "# nv.predict(news2)"
   ]
  },
  {
   "cell_type": "code",
   "execution_count": 80,
   "metadata": {},
   "outputs": [
    {
     "data": {
      "text/plain": [
       "array([1, 0, 0, 0, 1, 0], dtype=int64)"
      ]
     },
     "execution_count": 80,
     "metadata": {},
     "output_type": "execute_result"
    }
   ],
   "source": [
    "logreg.predict(news2)"
   ]
  },
  {
   "cell_type": "code",
   "execution_count": null,
   "metadata": {},
   "outputs": [],
   "source": [
    "# for times of india out of 6, positive are 2 and 4 are negatives."
   ]
  },
  {
   "cell_type": "markdown",
   "metadata": {},
   "source": [
    "third channel : indian express"
   ]
  },
  {
   "cell_type": "code",
   "execution_count": 81,
   "metadata": {},
   "outputs": [
    {
     "name": "stdout",
     "output_type": "stream",
     "text": [
      "Found the URL: https://indianexpress.com/article/india/after-punjab-now-rajasthan-introduces-three-bills-to-negate-impact-of-centres-farm-laws-6911249/\n",
      "\n",
      "Found the URL: https://indianexpress.com/section/india/\n",
      "\n",
      "Found the URL: https://indianexpress.com/article/india/pm-modi-pulwama-attack-pakistan-gujarat-vallabhbhai-patel-6910985/\n",
      "\n",
      "Found the URL: https://indianexpress.com/article/sports/ipl/ipl-2020-dc-vs-mi-live-score-streaming-delhi-capitals-vs-mumbai-indians-6911238/\n",
      "\n",
      "Found the URL: https://indianexpress.com/article/india/govt-microcredit-scheme-street-vendor-database-6910754/\n",
      "\n",
      "Found the URL: https://indianexpress.com/article/business/future-amazon-reliance-escrow-account-6910747/\n",
      "\n",
      "Found the URL: https://indianexpress.com/article/explained/explained-why-is-there-a-buzz-that-after-khadse-pankaja-munde-may-quit-bjp-in-maharashtra-6910304/\n",
      "\n",
      "Following in the footsteps of Punjab, the Congress government in Rajasthan introduced three bills in the state Assembly to counter the Centre’s new farm laws cleared by the Parliament last month.Earlier this month, the Punjab Assembly passed four new state farm Bills, including three amendment Bills, striking down key provisions of the Centre’s laws, and barring the sale and purchase of wheat or paddy below the MSP. The Chhattisgarh assembly also approved the Chhattisgarh Krishi Upaj Mandi (Amendment) Bill 2020 that declared the entire state as a market for selling agriculture produce to “protect” its farmers from the Centre’s farm laws.On the first day of the Assembly session, Rajasthan’s Parliamentary Affairs Minister Shanti Dhariwal introduced the Essential Commodities (Special Provisions and Rajasthan Amendment) Bill 2020, the Farmers (Empowerment and Protection) Agreement on Price Assurance and Farm Services (Rajasthan Amendment) Bill 2020 and the Farmers Produce Trade and Commerce (Promotion and Facilitation and Rajasthan Amendment) Bill 2020.Dhariwal also introduced the Code of Procedure (Rajasthan Amendment) Bill 2020 during the session, which was later adjourned for the day after obituary references on the death of former president Pranab Mukherjee and other leaders who passed away recently.Under Article 254(2) of the Constitution, a state can make changes to a central legislation on a subject on the  concurrent list provided its law gets Presidential assent. As per the procedure, if the Bills are passed by the Assembly, it would then be routed through the Governor to the President, who will send the legislations to the Union Ministry of Home Affairs for their comments. The legislations could be sent to the Council of Union Ministers also for their advice before finally signed by the President if he chooses to do so.Last month, Congress president Sonia Gandhi had directed party-ruled states to explore the possibility of passing Bills to “bypass” and “negate” provisions of the contentious farm laws. The party high command had even circulated a draft Bill to the states.On October 20, hours after Punjab passed the four amendment Bills, Rajasthan Chief Minister Ashok Gehlot had said his state would follow suit in bypassing the “anti-farmer laws”.“INC under the leadership of Smt #SoniaGandhi ji& #RahulGandhi ji stands absolutely with our ‘annadatas’ and will continue to oppose the anti-farmer laws passed by NDA Govt. Today Congress Govt in #Punjab has passed Bills against these laws & #Rajasthan will follow soon,” Gehlot had tweeted on October 20.In each of the three Bills, the Punjab government has claimed that the application of central laws to the state was being changed to “restore the agricultural safeguards for the farmers through the regulatory framework of Punjab Agricultural Produce Markets Act, 1961 to secure and protect the interests and livelihoods of farmers and farm labourers as also all others engaged in agriculture and related activities”.Punjab’s decision came after over a month of protests by farmers across the state. The three contentious farm laws —  The Farmers Produce Trade and Commerce (Promotion and Facilitation) Act, 2020; The Farmers (Empowerment and Protection) Agreement on Price Assurance and Farm Services Act, 2020; and The Essential Commodities (Amendment) Act, 2020 — has seen farmers and the Opposition hit the streets in protest in different parts of the country and one of BJP’s oldest allies and a founding member of the NDA, the Shiromani Akali Dal, quitting the ruling coalition at the Centre.The primary objection of the farmers is to the first law, which provides for the creation of a “trade area” outside the existing APMC Mandis. While there is no mention of the MSP mechanism in any of the three Bills, farmers fear that if the mandi system comes to an end, MSP will soon follow. The government maintains that the MSP system will continue.📣 The Indian Express is now on Telegram. Click here to join our channel (@indianexpress) and stay updated with the latest headlinesFor all the latest India News, download Indian Express App.\n",
      "\n",
      "Addressing the country on the occasion of Rashtriya Ekta Divas, which marks the 145th birth anniversary of Sardar Vallabhbhai Patel, Prime Minister Narendra Modi Saturday urged people “not to play into the hands” of those who questioned the sacrifice of the soldiers in Pulwama.Two days after Pakistan’s Science and Technology minister Fawad Chaudhary said in the Pakistan national assembly that “our success in Pulwama, is a success of this nation under the leadership of Imran Khan”, Modi said divisive forces have been exposed. He also said India’s perspective at the borders has now changed, and the country is equipped to give a fitting reply to intruders.Speaking after the Ekta Parade at the Statue of Unity, where paramilitary forces showcased their skills, PM Modi said, “While I was watching the Ekta Diwas parade by the paramilitary forces, images of the Pulwama attack crossed my mind. The slain soldiers were also from the paramilitary forces. The entire country had plunged into grief and mourning. But there were some who were not part of this grief. They were the ones questioning the attack and making accusations. They were searching for their own gains and political opportunity in that time of grief.” Read in MalayalamWithout referring to any political party, PM Modi said he “silently endured” the allegations because it was not the time to indulge in spats.“The country will not forget those distasteful comments and accusations during the Pulwama attack. I silently endured the allegations, but I had a deep wound in my heart for my brave soldiers who had laid down their lives. But today, there has been news from the neighbouring country, which has exposed these divisive forces who questioned the Pulwama soldiers,” he said.Also Read | Pakistan minister’s admission revealed truth of Pulwama attack, silenced govt critics: Rajnath Singh“Today, it is my request to you all from this stage that if you have respect for Sardar, don’t indulge in such politics. Don’t play into the hands of such opportunistic politics and become pawns in their hands. We can only develop if we thwart such forces,” the Prime Minister said. He also referred to the abrogation of Article 370 and said that in the past year, Kashmir had joined India in development.PM Modi said India had touched new heights of self-reliance on defence, and had its hawk eyes on the borders. “India is now moving towards becoming atmanirbhar in the area of defence. We have hawk eyes on our borders. Our perspective has also changed. No one can step foot here or cast an eye on our country. The brave soldiers have the power in their hands to give a befitting reply to any intruders for the protection of pride and sovereignty. We are equipped. We are building roads and tunnels in the borders despite challenges,” he said.Earlier in his speech, PM Modi also said that India had been suffering terrorism and losing “brave soldiers and innocent citizens” to terror violence. “India has always given a firm reply to terrorism, but it is time for the world to unite against it. India has always been an advocate of peace. India is a feeling, which makes humans come alive due to its diversity. But many forces dislike our unity and want to turn our diversity into our weaknesses. We must identify these force,” he said.The Prime Minister praised the confidence of the tribal youth and girls who have joined as volunteers at the various tourist projects in the periphery of the statue of Unity, which the prime minister inaugurated on Friday. He said that Kevadia will soon find a spot in the world tourist map and provide employment opportunities to the locals.📣 The Indian Express is now on Telegram. Click here to join our channel (@indianexpress) and stay updated with the latest headlinesFor all the latest India News, download Indian Express App.\n",
      "\n",
      "IPL 2020, DC vs MI Live Cricket Score Online Updates: After three consecutive defeats, Delhi Capitals would look their campaign back on track in their clash against Mumbai Indians on Saturday. The team currently stand at the third position but with the playoff race getting exciting, Delhi cannot afford to lose another match.Mumbai, on the other hand, have already made it to the playoffs and are currently placed at the top of the points table. Despite Rohit Sharma missing out from action, Mumbai have been in sublime form under the leadership of Keiron Pollard. Meanwhile, Ishan Kishan has adjusted to the opening slot brilliantly as he along with Quinton de Kock have given Mumbai the quickfire start they look forward to.\n",
      "\n",
      "The Centre plans to prepare a socio-economic profile of street vendors to bring them in the net of eligible government schemes, and turn PM SVANidhi into a comprehensive poverty alleviation programme, as per directions issued by Prime Minister Narendra Modi, top sources told The Indian Express.Under the Centre’s new PM Street Vendors’ Atmanirbhar Nidhi (SVANidhi) microcredit programme, a loan of Rs 10,000 is extended as working capital to street vendors. Disbursals under the scheme have risen to 15,000 per day, and around Rs 582 crore has so far been disbursed to over 5.93 lakh street vendors. The next step will be to profile and map the beneficiaries, work on which will begin next month, the sources said.Read| Over 20 lakh street vendors line up for PM loan scheme — despite red tape“The mapping will identify who they are, and how many are covered by which welfare schemes of the government. The plan is to form committees at the level of Collectors, then ask government departments to appoint nodal officers in each city, and then bring them into all the welfare schemes they are eligible for,” a senior government official said.The idea has come from Modi himself, officials said. The Prime Minister wants the SVANidhi scheme to work as not  just a one-time financial assistance tool, but as a mode of inclusion in the government’s permanent social welfare net, they said.The scheme has brought 5.37 lakh new street vendors hitherto not identified by municipal bodies into the mainstream by arranging letters of recommendation for them to apply for the loans.Read| Delhi Confidential: Leading From FrontAs per The Street Vendors (Protection of Livelihood and Regulation of Street Vending) Act, 2014, states are supposed to carry out periodic surveys to identify genuine street vendors, and hand them identity papers and licences to vend. However, several states have not carried out surveys for years, leaving a very large number of street vendors outside the legal system, as per information with the Ministry of Housing and Urban Poverty Alleviation.Around 25 lakh street vendors have applied for loans under the programme, which was launched as a fresh scheme of the Modi government to restart the street-vending economy that was badly hit by the pandemic induced lockdown. There are an estimated 50-60 lakh street vendors in India.The Ministry has written to states to waive the stamp duty, or to charge the absolute minimum payable as per state laws whenever loans are disbursed. Gujarat, Uttar Pradesh, Rajasthan, and Madhya Pradesh are among the states that have waived the duty.“At some places, banks are coming looking for beneficiaries. At other places, they are hesitant. But overall, the scheme is a great boost for financial inclusion,” Arbind Singh of the National Association of Street Vendors of India said.Also Read| Relief for hawkers: Centre flags ‘issues’ to Maharashtra, state says following normsUnder the PM SVANidhi scheme, a street vendor who accepts payments digitally is eligible for a cashback up to Rs 200. This, officials said, was intended to help create a trail of banking transactions so that vendors could have a degree of creditworthiness in the eyes of banks, and could avail of loans formally even after the scheme is over.As a pilot, the government has roped in an online food delivery aggregator in cities like Varanasi, Delhi, Ahmedabad, Chandigarh, and Indore, to include street vendors. The scheme is bearing the bulk of the expenditure for GST registration, FSSAI certification and training, sources said. The pilot will be rolled out in another 125 cities next month, they said.Last week, the PM interacted virtually with beneficiaries of the scheme. He was particularly impressed with the way a momo seller in Varanasi had used the loan, and had also enrolled for all other government schemes.UP has seen the largest number — 6.78 lakh — of loan applications, 3.76 lakh of which have been sanctioned, and 2.81 lakh have been disbursed. Madhya Pradesh has had 3.26 lakh applications, of which 1.91 lakh have been sanctioned and 1.2 lakh have been disbursed.The PM’s constituency, Varanasi, has been the most proactive, with 28,688 sanctioned applications, over 21,000 of which have been disbursed.Fruit and vegetable sellers comprise 45 per cent of applicants, followed by fast-food sellers at 21 per cent. The list has vendors of beauty products, electronics, clothes, and even services.📣 The Indian Express is now on Telegram. Click here to join our channel (@indianexpress) and stay updated with the latest headlinesFor all the latest India News, download Indian Express App.\n",
      "\n",
      "In order to factor in all present and future liabilities in its arbitration tussle with global e-commerce major Amazon, Kishore Biyani’s Future Group is learnt to have set aside around Rs 1,000 crore in an escrow account as a safeguard measure, sources privy to the development told The Indian Express.The amount in the escrow account, which could later be raised to Rs 1,500 crore, is equal to the total investment made by Amazon in Future Coupons, the promoter group entity of Future Retail, the sources said. The Future Group did not respond to a detailed questionnaire seeking its response on the development.The company’s top management is also of the view that the deal with Reliance Retail Ventures, a unit of Mukesh Ambani-owned Reliance Industries, will go ahead as planned and will be completed as per schedule, one of the persons said.“The understanding within the company is that even if Future Group loses the arbitration, it would have to pay a maximum of monetary damages. And we are ready for that. That is the idea behind keeping the money aside in the escrow account,” the person quoted above said.Explained | What is next in Future-Reliance vs Amazon?Legal sources, however, said that if Future decided to go ahead with the deal, it would leave Amazon with no option but to either approach an Indian court with a plea seeking a stay on the deal, or to approach the Singapore International Arbitration Centre (SIAC) for an early hearing in the matter.“The interim order passed by the emergency Arbitrator of SIAC is not per se enforceable by Indian courts, although it holds persuasive value and parties are expected to abide by it. In order to enforce the interim order in India, Amazon can apply for interim reliefs under Section 9 of the Arbitration and Conciliation Act from Indian courts. In the event of breach of an interim order, there can be damages that can be claimed by them (Amazon),” Amit Jajoo, partner at IndusLaw, said.Section 9 of the Arbitration and Conciliation Act provides the option to parties to ask the court to pass orders to preserve the condition of the goods or to take interim custody of the same until a final order is passed in the case.On August 29, Future Retail had announced that it would “sell by way of a slump sale the retail and wholesale business” of its supermarket chain Big Bazaar, premium food supply unit Foodhall, and fashion and clothes supermart Brand Factory’s retail and wholesale units, to Reliance Retail.The deal had run afoul of Amazon, that had bought a 49 per cent stake in Future Coupons, which translates to roughly 3.58 per cent in Future Retail. In its objections, Amazon had said that the deal, apart from being a violation of a non-compete clause and a right-of-first-refusal pact, was also denying it the “call” option, which was part of the agreement that it had with Future Coupons.This provision, Amazon has claimed, enabled it to exercise the option of acquiring all or part of Future Retail’s shareholding in the company, within three to 10 years of the agreement. It said the deal also required Future Group to inform Amazon before entering into any sale agreement with third parties.After the Future Retail-Reliance Retail deal, Amazon had taken Future Coupons, Future Retail, and other promoter group entities to the SIAC, from where it had, on October 25, obtained a favourable interim stay on the deal.An emergency arbitrator of the SIAC had in his order asked Future Retail, Future Coupons, and the parent company Future Group “not to take any steps in furtherance to the Board Resolution of August 29”.While the order was welcomed by Amazon India, Future Retail and Reliance Retail Ventures have so far maintained they intended to go ahead with the deal as planned.📣 The Indian Express is now on Telegram. Click here to join our channel (@indianexpress) and stay updated with the latest headlinesFor all the latest Business News, download Indian Express App.\n",
      "\n",
      "After senior BJP leader Eknath Khadse switched over to the NCP last week, effusive praise for Chief Minister Uddhav Thackeray and NCP chief Sharad Pawar from BJP national secretary Pankaja Munde has triggered speculation that she might be the next to leave. Pankaja has not explicitly rejected an offer from the Shiv Sena to join the party.Breaking ranks with BJPOn October 22, Thackeray announced a Rs 10,000-crore relief package for flood-hit farmers, which was rejected by the BJP as “peanuts”, given the magnitude of the damage. However, three days later, Pankaja, a former state minister, “congratulated the Chief Minister and welcomed the relief package”.Pankaja’s praise, which contrasted with the criticism from former Chief Minister Devendra Fadnavis, state BJP chief Chandrakant Patil, MP Raosaheb Danve, and former minister Sudhir Mungantiwar, came three days after the Sena offered her a place in that party.Pankaja has been sulking since she was defeated in the Assembly elections last year. Like Eknath Khadse, she blames her defeat on sabotage. Pankaja had won the Parli Vidhan Sabha seat in 2009 and 2014, but lost to her cousin, Dhananjay Munde of the NCP, in 2019. The constituency came into existence in 2008 after the earlier Renapur seat, which had been won by Pankaja’s father, the late Gopinath Munde, several times, was abolished.Also in Explained: How the BJP’s image takes a beating with Eknath Khadse’s exitAt the annual Dussehra rally at Bhagwangad in Beed district on October 25, Pankaja said she had requested the CM to make Diwali sweet for flood-hit farmers by announcing a relief package. “I therefore compliment and welcome the relief package announced by the Chief Minister”, she said, adding, however, that the package was inadequate and that the Chief Minister should be more liberal.She went on to say that earlier, when the restrictions due to Covid-19 were in place, the CM had called her up to demand why she was raising the issue of sugarcane farmers. “When I explained to the CM, the government allowed stranded cane growers to return home…,” Pankaja said. “The Chief Minister got angry with me because he is my elder brother… But he listened to me.”Pankaja also said she would meet Sharad Pawar regarding the problems of cane workers, and expressed confidence that he would help. She subsequently tweeted in praise of Pawar: “Hats off… even during the pandemic, you are undertaking so many tours. Your style of functioning is worth emulating.”Through her speech, Pankaja took Thackeray’s name three times, and Pawar’s at least twice. She did not mention Fadnavis or any other BJP leader at all.📣 Express Explained is now on TelegramAt the same rally, Pankaja said it had been (Gopinath) “Munde saheb’s dream” to hold a rally at Shivaji Park in Mumbai, and that “next year, I might hold the Dussehra rally at Shiv Theerth at Shivaji Park”.She extended her best wishes to Thackeray, who was supposed to make the Sena’s traditional Shivaji Park Dussehra speech that evening. “My best wishes to him… all of Maharashtra would be watching him,” she said.Following Khadse’s switch to the NCP, Sena leaders like former Minister Arjun Khotkar and current Minister Gulabrao Patil had urged Pankaja to join the Sena. Speaking in Ambejogai in Beed on October 24, Pankaja thanked the Sena for its offer — even though she also said she was capable of taking her own decisions.Said Khotkar: “She (Pankaja) said thank you to our offer… It means a lot. She has not rejected our offer. We are still positive.” Khotkar had accompanied Pankaja to Thackeray’s residence to congratulate him soon after he took charge as CM. The photo had caused disquiet in the BJP. The only other BJP leader who met Thackeray was Khadse.Cool towards FadnavisPankaja avoided Fadnavis when he was on a three-day tour of Marathwada last week; she was ostensibly “held up” in Nanded. Fadnavis and other BJP leaders travelled across Beed, and went to Bhagwangad, but did not survey crop damage in Parli. Pankaja joined Fadnavis only in the neighbouring Parbhani district.Though Pankaja has not directly attacked Fadnavis, she has signalled her unhappiness with the party. When asked about Sena leader Khotkar’s offer to Pankaja, Fadnavis said: “Who is Khotkar? Who cares what Khotkar says?”📣 The Indian Express is now on Telegram. Click here to join our channel (@indianexpress) and stay updated with the latest headlinesFor all the latest Explained News, download Indian Express App.\n",
      "\n"
     ]
    }
   ],
   "source": [
    "res = requests.get('https://indianexpress.com/')\n",
    "soup = BeautifulSoup(res.text, 'lxml')\n",
    "\n",
    "news_box = soup.find('div', {'class': 'lead-stories event-track-class'})\n",
    "# all_news = news_box.find_all('a')\n",
    "# print(all_news)\n",
    "# print(news_box)\n",
    "# for article in news_box.find_all('div',{'class' :'other-articles'}):\n",
    "#     print(article)\n",
    "\n",
    "links = list()\n",
    "for a in news_box.find_all('a',href=True):\n",
    "    if a['href'] not in links:\n",
    "        links.append(a['href'])\n",
    "    \n",
    "for link in links:\n",
    "    print( \"Found the URL:\",link)\n",
    "    print()\n",
    "\n",
    "\n",
    "all_news = list()\n",
    "for link in links:\n",
    "    if link != 'https://indianexpress.com/section/india/':\n",
    "        res = requests.get(link)\n",
    "        soup = BeautifulSoup(res.text, 'lxml')\n",
    "        news_box = soup.find('div', {'class': 'full-details'})\n",
    "    #     print(news_box)\n",
    "        news_description = news_box.find_all('p')\n",
    "        story = \"\"\n",
    "        for news in news_description:\n",
    "            story = story + news.text\n",
    "        all_news.append(story)\n",
    "#         print(story)\n",
    "    \n",
    "    \n",
    "for news in all_news:\n",
    "    print(news)\n",
    "    print()\n",
    "#     break    \n",
    "    "
   ]
  },
  {
   "cell_type": "code",
   "execution_count": 82,
   "metadata": {},
   "outputs": [
    {
     "data": {
      "text/plain": [
       "array([0, 0, 0, 0, 1, 0], dtype=int64)"
      ]
     },
     "execution_count": 82,
     "metadata": {},
     "output_type": "execute_result"
    }
   ],
   "source": [
    "news3 = np.array(all_news)\n",
    "news3 = cv.transform(news3)\n",
    "# nv.predict(news3)"
   ]
  },
  {
   "cell_type": "code",
   "execution_count": 83,
   "metadata": {},
   "outputs": [
    {
     "data": {
      "text/plain": [
       "array([0, 0, 0, 0, 1, 0], dtype=int64)"
      ]
     },
     "execution_count": 83,
     "metadata": {},
     "output_type": "execute_result"
    }
   ],
   "source": [
    "logreg.predict(news3)"
   ]
  },
  {
   "cell_type": "code",
   "execution_count": null,
   "metadata": {},
   "outputs": [],
   "source": [
    "#for indian express out of 6, postive is 1 and negative are 5."
   ]
  }
 ],
 "metadata": {
  "kernelspec": {
   "display_name": "Python 3",
   "language": "python",
   "name": "python3"
  },
  "language_info": {
   "codemirror_mode": {
    "name": "ipython",
    "version": 3
   },
   "file_extension": ".py",
   "mimetype": "text/x-python",
   "name": "python",
   "nbconvert_exporter": "python",
   "pygments_lexer": "ipython3",
   "version": "3.7.6"
  }
 },
 "nbformat": 4,
 "nbformat_minor": 4
}
